{
  "nbformat": 4,
  "nbformat_minor": 0,
  "metadata": {
    "accelerator": "GPU",
    "colab": {
      "name": "wangchanberta_getting_started.aireseach.ipynb",
      "provenance": [],
      "collapsed_sections": [],
      "include_colab_link": true
    },
    "kernelspec": {
      "display_name": "Python 3",
      "language": "python",
      "name": "python3"
    },
    "language_info": {
      "codemirror_mode": {
        "name": "ipython",
        "version": 3
      },
      "file_extension": ".py",
      "mimetype": "text/x-python",
      "name": "python",
      "nbconvert_exporter": "python",
      "pygments_lexer": "ipython3",
      "version": "3.6.9"
    },
    "widgets": {
      "application/vnd.jupyter.widget-state+json": {
        "7a300943beb341b9a53eb89fc44891f9": {
          "model_module": "@jupyter-widgets/controls",
          "model_name": "HBoxModel",
          "state": {
            "_view_name": "HBoxView",
            "_dom_classes": [],
            "_model_name": "HBoxModel",
            "_view_module": "@jupyter-widgets/controls",
            "_model_module_version": "1.5.0",
            "_view_count": null,
            "_view_module_version": "1.5.0",
            "box_style": "",
            "layout": "IPY_MODEL_0cc47b3983fb49b09b81f61b651b76dd",
            "_model_module": "@jupyter-widgets/controls",
            "children": [
              "IPY_MODEL_8e3ba1b50c104d4abc9b765b8fb15921",
              "IPY_MODEL_4ef312da966f42b1a669412f6d075d27"
            ]
          },
          "model_module_version": "1.5.0"
        },
        "0cc47b3983fb49b09b81f61b651b76dd": {
          "model_module": "@jupyter-widgets/base",
          "model_name": "LayoutModel",
          "state": {
            "_view_name": "LayoutView",
            "grid_template_rows": null,
            "right": null,
            "justify_content": null,
            "_view_module": "@jupyter-widgets/base",
            "overflow": null,
            "_model_module_version": "1.2.0",
            "_view_count": null,
            "flex_flow": null,
            "width": null,
            "min_width": null,
            "border": null,
            "align_items": null,
            "bottom": null,
            "_model_module": "@jupyter-widgets/base",
            "top": null,
            "grid_column": null,
            "overflow_y": null,
            "overflow_x": null,
            "grid_auto_flow": null,
            "grid_area": null,
            "grid_template_columns": null,
            "flex": null,
            "_model_name": "LayoutModel",
            "justify_items": null,
            "grid_row": null,
            "max_height": null,
            "align_content": null,
            "visibility": null,
            "align_self": null,
            "height": null,
            "min_height": null,
            "padding": null,
            "grid_auto_rows": null,
            "grid_gap": null,
            "max_width": null,
            "order": null,
            "_view_module_version": "1.2.0",
            "grid_template_areas": null,
            "object_position": null,
            "object_fit": null,
            "grid_auto_columns": null,
            "margin": null,
            "display": null,
            "left": null
          },
          "model_module_version": "1.2.0"
        },
        "8e3ba1b50c104d4abc9b765b8fb15921": {
          "model_module": "@jupyter-widgets/controls",
          "model_name": "FloatProgressModel",
          "state": {
            "_view_name": "ProgressView",
            "style": "IPY_MODEL_edafc45582df4a1b8d35cb3d13ddb7a7",
            "_dom_classes": [],
            "description": "Downloading: 100%",
            "_model_name": "FloatProgressModel",
            "bar_style": "success",
            "max": 423498558,
            "_view_module": "@jupyter-widgets/controls",
            "_model_module_version": "1.5.0",
            "value": 423498558,
            "_view_count": null,
            "_view_module_version": "1.5.0",
            "orientation": "horizontal",
            "min": 0,
            "description_tooltip": null,
            "_model_module": "@jupyter-widgets/controls",
            "layout": "IPY_MODEL_ed3fc0cdc1e04d339c48f4dac0923ed9"
          },
          "model_module_version": "1.5.0"
        },
        "4ef312da966f42b1a669412f6d075d27": {
          "model_module": "@jupyter-widgets/controls",
          "model_name": "HTMLModel",
          "state": {
            "_view_name": "HTMLView",
            "style": "IPY_MODEL_7ecf79e1000a4340a6d59e6bdc1a09dc",
            "_dom_classes": [],
            "description": "",
            "_model_name": "HTMLModel",
            "placeholder": "​",
            "_view_module": "@jupyter-widgets/controls",
            "_model_module_version": "1.5.0",
            "value": " 423M/423M [00:10&lt;00:00, 41.6MB/s]",
            "_view_count": null,
            "_view_module_version": "1.5.0",
            "description_tooltip": null,
            "_model_module": "@jupyter-widgets/controls",
            "layout": "IPY_MODEL_ed0b498b1a204631a74d4fb04c4c4732"
          },
          "model_module_version": "1.5.0"
        },
        "edafc45582df4a1b8d35cb3d13ddb7a7": {
          "model_module": "@jupyter-widgets/controls",
          "model_name": "ProgressStyleModel",
          "state": {
            "_view_name": "StyleView",
            "_model_name": "ProgressStyleModel",
            "description_width": "initial",
            "_view_module": "@jupyter-widgets/base",
            "_model_module_version": "1.5.0",
            "_view_count": null,
            "_view_module_version": "1.2.0",
            "bar_color": null,
            "_model_module": "@jupyter-widgets/controls"
          },
          "model_module_version": "1.5.0"
        },
        "ed3fc0cdc1e04d339c48f4dac0923ed9": {
          "model_module": "@jupyter-widgets/base",
          "model_name": "LayoutModel",
          "state": {
            "_view_name": "LayoutView",
            "grid_template_rows": null,
            "right": null,
            "justify_content": null,
            "_view_module": "@jupyter-widgets/base",
            "overflow": null,
            "_model_module_version": "1.2.0",
            "_view_count": null,
            "flex_flow": null,
            "width": null,
            "min_width": null,
            "border": null,
            "align_items": null,
            "bottom": null,
            "_model_module": "@jupyter-widgets/base",
            "top": null,
            "grid_column": null,
            "overflow_y": null,
            "overflow_x": null,
            "grid_auto_flow": null,
            "grid_area": null,
            "grid_template_columns": null,
            "flex": null,
            "_model_name": "LayoutModel",
            "justify_items": null,
            "grid_row": null,
            "max_height": null,
            "align_content": null,
            "visibility": null,
            "align_self": null,
            "height": null,
            "min_height": null,
            "padding": null,
            "grid_auto_rows": null,
            "grid_gap": null,
            "max_width": null,
            "order": null,
            "_view_module_version": "1.2.0",
            "grid_template_areas": null,
            "object_position": null,
            "object_fit": null,
            "grid_auto_columns": null,
            "margin": null,
            "display": null,
            "left": null
          },
          "model_module_version": "1.2.0"
        },
        "7ecf79e1000a4340a6d59e6bdc1a09dc": {
          "model_module": "@jupyter-widgets/controls",
          "model_name": "DescriptionStyleModel",
          "state": {
            "_view_name": "StyleView",
            "_model_name": "DescriptionStyleModel",
            "description_width": "",
            "_view_module": "@jupyter-widgets/base",
            "_model_module_version": "1.5.0",
            "_view_count": null,
            "_view_module_version": "1.2.0",
            "_model_module": "@jupyter-widgets/controls"
          },
          "model_module_version": "1.5.0"
        },
        "ed0b498b1a204631a74d4fb04c4c4732": {
          "model_module": "@jupyter-widgets/base",
          "model_name": "LayoutModel",
          "state": {
            "_view_name": "LayoutView",
            "grid_template_rows": null,
            "right": null,
            "justify_content": null,
            "_view_module": "@jupyter-widgets/base",
            "overflow": null,
            "_model_module_version": "1.2.0",
            "_view_count": null,
            "flex_flow": null,
            "width": null,
            "min_width": null,
            "border": null,
            "align_items": null,
            "bottom": null,
            "_model_module": "@jupyter-widgets/base",
            "top": null,
            "grid_column": null,
            "overflow_y": null,
            "overflow_x": null,
            "grid_auto_flow": null,
            "grid_area": null,
            "grid_template_columns": null,
            "flex": null,
            "_model_name": "LayoutModel",
            "justify_items": null,
            "grid_row": null,
            "max_height": null,
            "align_content": null,
            "visibility": null,
            "align_self": null,
            "height": null,
            "min_height": null,
            "padding": null,
            "grid_auto_rows": null,
            "grid_gap": null,
            "max_width": null,
            "order": null,
            "_view_module_version": "1.2.0",
            "grid_template_areas": null,
            "object_position": null,
            "object_fit": null,
            "grid_auto_columns": null,
            "margin": null,
            "display": null,
            "left": null
          },
          "model_module_version": "1.2.0"
        },
        "9cc0050e8633454daaeade8b4d17efaa": {
          "model_module": "@jupyter-widgets/controls",
          "model_name": "HBoxModel",
          "state": {
            "_view_name": "HBoxView",
            "_dom_classes": [],
            "_model_name": "HBoxModel",
            "_view_module": "@jupyter-widgets/controls",
            "_model_module_version": "1.5.0",
            "_view_count": null,
            "_view_module_version": "1.5.0",
            "box_style": "",
            "layout": "IPY_MODEL_2218a3cc79ca463fbd4222fdd97607f9",
            "_model_module": "@jupyter-widgets/controls",
            "children": [
              "IPY_MODEL_a8445b650c494c1e90af208e39453bb2",
              "IPY_MODEL_1785d5d0b21e40e882cf60029280799e"
            ]
          },
          "model_module_version": "1.5.0"
        },
        "2218a3cc79ca463fbd4222fdd97607f9": {
          "model_module": "@jupyter-widgets/base",
          "model_name": "LayoutModel",
          "state": {
            "_view_name": "LayoutView",
            "grid_template_rows": null,
            "right": null,
            "justify_content": null,
            "_view_module": "@jupyter-widgets/base",
            "overflow": null,
            "_model_module_version": "1.2.0",
            "_view_count": null,
            "flex_flow": null,
            "width": null,
            "min_width": null,
            "border": null,
            "align_items": null,
            "bottom": null,
            "_model_module": "@jupyter-widgets/base",
            "top": null,
            "grid_column": null,
            "overflow_y": null,
            "overflow_x": null,
            "grid_auto_flow": null,
            "grid_area": null,
            "grid_template_columns": null,
            "flex": null,
            "_model_name": "LayoutModel",
            "justify_items": null,
            "grid_row": null,
            "max_height": null,
            "align_content": null,
            "visibility": null,
            "align_self": null,
            "height": null,
            "min_height": null,
            "padding": null,
            "grid_auto_rows": null,
            "grid_gap": null,
            "max_width": null,
            "order": null,
            "_view_module_version": "1.2.0",
            "grid_template_areas": null,
            "object_position": null,
            "object_fit": null,
            "grid_auto_columns": null,
            "margin": null,
            "display": null,
            "left": null
          },
          "model_module_version": "1.2.0"
        },
        "a8445b650c494c1e90af208e39453bb2": {
          "model_module": "@jupyter-widgets/controls",
          "model_name": "FloatProgressModel",
          "state": {
            "_view_name": "ProgressView",
            "style": "IPY_MODEL_e0561c8085f54eadb7d168f7c3950598",
            "_dom_classes": [],
            "description": "Downloading: 100%",
            "_model_name": "FloatProgressModel",
            "bar_style": "success",
            "max": 730,
            "_view_module": "@jupyter-widgets/controls",
            "_model_module_version": "1.5.0",
            "value": 730,
            "_view_count": null,
            "_view_module_version": "1.5.0",
            "orientation": "horizontal",
            "min": 0,
            "description_tooltip": null,
            "_model_module": "@jupyter-widgets/controls",
            "layout": "IPY_MODEL_82bc9f2c4ae347cdbb985ed11c90c09a"
          },
          "model_module_version": "1.5.0"
        },
        "1785d5d0b21e40e882cf60029280799e": {
          "model_module": "@jupyter-widgets/controls",
          "model_name": "HTMLModel",
          "state": {
            "_view_name": "HTMLView",
            "style": "IPY_MODEL_759c32a5ea584e0f9033cb84ae802078",
            "_dom_classes": [],
            "description": "",
            "_model_name": "HTMLModel",
            "placeholder": "​",
            "_view_module": "@jupyter-widgets/controls",
            "_model_module_version": "1.5.0",
            "value": " 730/730 [00:14&lt;00:00, 51.2B/s]",
            "_view_count": null,
            "_view_module_version": "1.5.0",
            "description_tooltip": null,
            "_model_module": "@jupyter-widgets/controls",
            "layout": "IPY_MODEL_157107fff9bf4c40994f65ce2dcb42bb"
          },
          "model_module_version": "1.5.0"
        },
        "e0561c8085f54eadb7d168f7c3950598": {
          "model_module": "@jupyter-widgets/controls",
          "model_name": "ProgressStyleModel",
          "state": {
            "_view_name": "StyleView",
            "_model_name": "ProgressStyleModel",
            "description_width": "initial",
            "_view_module": "@jupyter-widgets/base",
            "_model_module_version": "1.5.0",
            "_view_count": null,
            "_view_module_version": "1.2.0",
            "bar_color": null,
            "_model_module": "@jupyter-widgets/controls"
          },
          "model_module_version": "1.5.0"
        },
        "82bc9f2c4ae347cdbb985ed11c90c09a": {
          "model_module": "@jupyter-widgets/base",
          "model_name": "LayoutModel",
          "state": {
            "_view_name": "LayoutView",
            "grid_template_rows": null,
            "right": null,
            "justify_content": null,
            "_view_module": "@jupyter-widgets/base",
            "overflow": null,
            "_model_module_version": "1.2.0",
            "_view_count": null,
            "flex_flow": null,
            "width": null,
            "min_width": null,
            "border": null,
            "align_items": null,
            "bottom": null,
            "_model_module": "@jupyter-widgets/base",
            "top": null,
            "grid_column": null,
            "overflow_y": null,
            "overflow_x": null,
            "grid_auto_flow": null,
            "grid_area": null,
            "grid_template_columns": null,
            "flex": null,
            "_model_name": "LayoutModel",
            "justify_items": null,
            "grid_row": null,
            "max_height": null,
            "align_content": null,
            "visibility": null,
            "align_self": null,
            "height": null,
            "min_height": null,
            "padding": null,
            "grid_auto_rows": null,
            "grid_gap": null,
            "max_width": null,
            "order": null,
            "_view_module_version": "1.2.0",
            "grid_template_areas": null,
            "object_position": null,
            "object_fit": null,
            "grid_auto_columns": null,
            "margin": null,
            "display": null,
            "left": null
          },
          "model_module_version": "1.2.0"
        },
        "759c32a5ea584e0f9033cb84ae802078": {
          "model_module": "@jupyter-widgets/controls",
          "model_name": "DescriptionStyleModel",
          "state": {
            "_view_name": "StyleView",
            "_model_name": "DescriptionStyleModel",
            "description_width": "",
            "_view_module": "@jupyter-widgets/base",
            "_model_module_version": "1.5.0",
            "_view_count": null,
            "_view_module_version": "1.2.0",
            "_model_module": "@jupyter-widgets/controls"
          },
          "model_module_version": "1.5.0"
        },
        "157107fff9bf4c40994f65ce2dcb42bb": {
          "model_module": "@jupyter-widgets/base",
          "model_name": "LayoutModel",
          "state": {
            "_view_name": "LayoutView",
            "grid_template_rows": null,
            "right": null,
            "justify_content": null,
            "_view_module": "@jupyter-widgets/base",
            "overflow": null,
            "_model_module_version": "1.2.0",
            "_view_count": null,
            "flex_flow": null,
            "width": null,
            "min_width": null,
            "border": null,
            "align_items": null,
            "bottom": null,
            "_model_module": "@jupyter-widgets/base",
            "top": null,
            "grid_column": null,
            "overflow_y": null,
            "overflow_x": null,
            "grid_auto_flow": null,
            "grid_area": null,
            "grid_template_columns": null,
            "flex": null,
            "_model_name": "LayoutModel",
            "justify_items": null,
            "grid_row": null,
            "max_height": null,
            "align_content": null,
            "visibility": null,
            "align_self": null,
            "height": null,
            "min_height": null,
            "padding": null,
            "grid_auto_rows": null,
            "grid_gap": null,
            "max_width": null,
            "order": null,
            "_view_module_version": "1.2.0",
            "grid_template_areas": null,
            "object_position": null,
            "object_fit": null,
            "grid_auto_columns": null,
            "margin": null,
            "display": null,
            "left": null
          },
          "model_module_version": "1.2.0"
        },
        "a116718dba114a2bbaafb9629f9b6775": {
          "model_module": "@jupyter-widgets/controls",
          "model_name": "HBoxModel",
          "state": {
            "_view_name": "HBoxView",
            "_dom_classes": [],
            "_model_name": "HBoxModel",
            "_view_module": "@jupyter-widgets/controls",
            "_model_module_version": "1.5.0",
            "_view_count": null,
            "_view_module_version": "1.5.0",
            "box_style": "",
            "layout": "IPY_MODEL_a31c0fdd0c4b44a38ebfe0b2b61e437e",
            "_model_module": "@jupyter-widgets/controls",
            "children": [
              "IPY_MODEL_0c7e5166c8514f50be0fb14179810842",
              "IPY_MODEL_591820d55a7446579bce904759f50a57"
            ]
          },
          "model_module_version": "1.5.0"
        },
        "a31c0fdd0c4b44a38ebfe0b2b61e437e": {
          "model_module": "@jupyter-widgets/base",
          "model_name": "LayoutModel",
          "state": {
            "_view_name": "LayoutView",
            "grid_template_rows": null,
            "right": null,
            "justify_content": null,
            "_view_module": "@jupyter-widgets/base",
            "overflow": null,
            "_model_module_version": "1.2.0",
            "_view_count": null,
            "flex_flow": null,
            "width": null,
            "min_width": null,
            "border": null,
            "align_items": null,
            "bottom": null,
            "_model_module": "@jupyter-widgets/base",
            "top": null,
            "grid_column": null,
            "overflow_y": null,
            "overflow_x": null,
            "grid_auto_flow": null,
            "grid_area": null,
            "grid_template_columns": null,
            "flex": null,
            "_model_name": "LayoutModel",
            "justify_items": null,
            "grid_row": null,
            "max_height": null,
            "align_content": null,
            "visibility": null,
            "align_self": null,
            "height": null,
            "min_height": null,
            "padding": null,
            "grid_auto_rows": null,
            "grid_gap": null,
            "max_width": null,
            "order": null,
            "_view_module_version": "1.2.0",
            "grid_template_areas": null,
            "object_position": null,
            "object_fit": null,
            "grid_auto_columns": null,
            "margin": null,
            "display": null,
            "left": null
          },
          "model_module_version": "1.2.0"
        },
        "0c7e5166c8514f50be0fb14179810842": {
          "model_module": "@jupyter-widgets/controls",
          "model_name": "FloatProgressModel",
          "state": {
            "_view_name": "ProgressView",
            "style": "IPY_MODEL_869600d06c6145768c19534fd4557b22",
            "_dom_classes": [],
            "description": "Downloading: 100%",
            "_model_name": "FloatProgressModel",
            "bar_style": "success",
            "max": 421042678,
            "_view_module": "@jupyter-widgets/controls",
            "_model_module_version": "1.5.0",
            "value": 421042678,
            "_view_count": null,
            "_view_module_version": "1.5.0",
            "orientation": "horizontal",
            "min": 0,
            "description_tooltip": null,
            "_model_module": "@jupyter-widgets/controls",
            "layout": "IPY_MODEL_846f5e0ead1f486cb87e4bd541f5079e"
          },
          "model_module_version": "1.5.0"
        },
        "591820d55a7446579bce904759f50a57": {
          "model_module": "@jupyter-widgets/controls",
          "model_name": "HTMLModel",
          "state": {
            "_view_name": "HTMLView",
            "style": "IPY_MODEL_ce5655f7807744cfa37b5d3c1e4c87bc",
            "_dom_classes": [],
            "description": "",
            "_model_name": "HTMLModel",
            "placeholder": "​",
            "_view_module": "@jupyter-widgets/controls",
            "_model_module_version": "1.5.0",
            "value": " 421M/421M [00:11&lt;00:00, 36.4MB/s]",
            "_view_count": null,
            "_view_module_version": "1.5.0",
            "description_tooltip": null,
            "_model_module": "@jupyter-widgets/controls",
            "layout": "IPY_MODEL_dfdaf30e3a5741609b991a7e1dd0d7e5"
          },
          "model_module_version": "1.5.0"
        },
        "869600d06c6145768c19534fd4557b22": {
          "model_module": "@jupyter-widgets/controls",
          "model_name": "ProgressStyleModel",
          "state": {
            "_view_name": "StyleView",
            "_model_name": "ProgressStyleModel",
            "description_width": "initial",
            "_view_module": "@jupyter-widgets/base",
            "_model_module_version": "1.5.0",
            "_view_count": null,
            "_view_module_version": "1.2.0",
            "bar_color": null,
            "_model_module": "@jupyter-widgets/controls"
          },
          "model_module_version": "1.5.0"
        },
        "846f5e0ead1f486cb87e4bd541f5079e": {
          "model_module": "@jupyter-widgets/base",
          "model_name": "LayoutModel",
          "state": {
            "_view_name": "LayoutView",
            "grid_template_rows": null,
            "right": null,
            "justify_content": null,
            "_view_module": "@jupyter-widgets/base",
            "overflow": null,
            "_model_module_version": "1.2.0",
            "_view_count": null,
            "flex_flow": null,
            "width": null,
            "min_width": null,
            "border": null,
            "align_items": null,
            "bottom": null,
            "_model_module": "@jupyter-widgets/base",
            "top": null,
            "grid_column": null,
            "overflow_y": null,
            "overflow_x": null,
            "grid_auto_flow": null,
            "grid_area": null,
            "grid_template_columns": null,
            "flex": null,
            "_model_name": "LayoutModel",
            "justify_items": null,
            "grid_row": null,
            "max_height": null,
            "align_content": null,
            "visibility": null,
            "align_self": null,
            "height": null,
            "min_height": null,
            "padding": null,
            "grid_auto_rows": null,
            "grid_gap": null,
            "max_width": null,
            "order": null,
            "_view_module_version": "1.2.0",
            "grid_template_areas": null,
            "object_position": null,
            "object_fit": null,
            "grid_auto_columns": null,
            "margin": null,
            "display": null,
            "left": null
          },
          "model_module_version": "1.2.0"
        },
        "ce5655f7807744cfa37b5d3c1e4c87bc": {
          "model_module": "@jupyter-widgets/controls",
          "model_name": "DescriptionStyleModel",
          "state": {
            "_view_name": "StyleView",
            "_model_name": "DescriptionStyleModel",
            "description_width": "",
            "_view_module": "@jupyter-widgets/base",
            "_model_module_version": "1.5.0",
            "_view_count": null,
            "_view_module_version": "1.2.0",
            "_model_module": "@jupyter-widgets/controls"
          },
          "model_module_version": "1.5.0"
        },
        "dfdaf30e3a5741609b991a7e1dd0d7e5": {
          "model_module": "@jupyter-widgets/base",
          "model_name": "LayoutModel",
          "state": {
            "_view_name": "LayoutView",
            "grid_template_rows": null,
            "right": null,
            "justify_content": null,
            "_view_module": "@jupyter-widgets/base",
            "overflow": null,
            "_model_module_version": "1.2.0",
            "_view_count": null,
            "flex_flow": null,
            "width": null,
            "min_width": null,
            "border": null,
            "align_items": null,
            "bottom": null,
            "_model_module": "@jupyter-widgets/base",
            "top": null,
            "grid_column": null,
            "overflow_y": null,
            "overflow_x": null,
            "grid_auto_flow": null,
            "grid_area": null,
            "grid_template_columns": null,
            "flex": null,
            "_model_name": "LayoutModel",
            "justify_items": null,
            "grid_row": null,
            "max_height": null,
            "align_content": null,
            "visibility": null,
            "align_self": null,
            "height": null,
            "min_height": null,
            "padding": null,
            "grid_auto_rows": null,
            "grid_gap": null,
            "max_width": null,
            "order": null,
            "_view_module_version": "1.2.0",
            "grid_template_areas": null,
            "object_position": null,
            "object_fit": null,
            "grid_auto_columns": null,
            "margin": null,
            "display": null,
            "left": null
          },
          "model_module_version": "1.2.0"
        },
        "09cf64d4c194459fa8724c86ef2573d8": {
          "model_module": "@jupyter-widgets/controls",
          "model_name": "HBoxModel",
          "model_module_version": "1.5.0",
          "state": {
            "_dom_classes": [],
            "_model_module": "@jupyter-widgets/controls",
            "_model_module_version": "1.5.0",
            "_model_name": "HBoxModel",
            "_view_count": null,
            "_view_module": "@jupyter-widgets/controls",
            "_view_module_version": "1.5.0",
            "_view_name": "HBoxView",
            "box_style": "",
            "children": [
              "IPY_MODEL_a9f9eea3cb9d4edb923d3316cbae528c",
              "IPY_MODEL_926decdb3dc348a7b556b81ff1df14d9",
              "IPY_MODEL_2a82d866551d493881475bd0fd57cbb2"
            ],
            "layout": "IPY_MODEL_a1635fd4c0cb4e358ae6bd7a069100d3"
          }
        },
        "a9f9eea3cb9d4edb923d3316cbae528c": {
          "model_module": "@jupyter-widgets/controls",
          "model_name": "HTMLModel",
          "model_module_version": "1.5.0",
          "state": {
            "_dom_classes": [],
            "_model_module": "@jupyter-widgets/controls",
            "_model_module_version": "1.5.0",
            "_model_name": "HTMLModel",
            "_view_count": null,
            "_view_module": "@jupyter-widgets/controls",
            "_view_module_version": "1.5.0",
            "_view_name": "HTMLView",
            "description": "",
            "description_tooltip": null,
            "layout": "IPY_MODEL_42c9e235d0c548c7bf089a503b7a48f2",
            "placeholder": "​",
            "style": "IPY_MODEL_68c3ffd587384fd78c28cd59fdb08a08",
            "value": "Downloading: 100%"
          }
        },
        "926decdb3dc348a7b556b81ff1df14d9": {
          "model_module": "@jupyter-widgets/controls",
          "model_name": "FloatProgressModel",
          "model_module_version": "1.5.0",
          "state": {
            "_dom_classes": [],
            "_model_module": "@jupyter-widgets/controls",
            "_model_module_version": "1.5.0",
            "_model_name": "FloatProgressModel",
            "_view_count": null,
            "_view_module": "@jupyter-widgets/controls",
            "_view_module_version": "1.5.0",
            "_view_name": "ProgressView",
            "bar_style": "success",
            "description": "",
            "description_tooltip": null,
            "layout": "IPY_MODEL_9722886ec13b4b3c8c79445da1b79629",
            "max": 546,
            "min": 0,
            "orientation": "horizontal",
            "style": "IPY_MODEL_034775298d06416b9b666a6e1d0b03f6",
            "value": 546
          }
        },
        "2a82d866551d493881475bd0fd57cbb2": {
          "model_module": "@jupyter-widgets/controls",
          "model_name": "HTMLModel",
          "model_module_version": "1.5.0",
          "state": {
            "_dom_classes": [],
            "_model_module": "@jupyter-widgets/controls",
            "_model_module_version": "1.5.0",
            "_model_name": "HTMLModel",
            "_view_count": null,
            "_view_module": "@jupyter-widgets/controls",
            "_view_module_version": "1.5.0",
            "_view_name": "HTMLView",
            "description": "",
            "description_tooltip": null,
            "layout": "IPY_MODEL_212c078287d44a8d8782279d94b074f8",
            "placeholder": "​",
            "style": "IPY_MODEL_77ce0a6abfb2469da97bef0083cf8d26",
            "value": " 546/546 [00:00&lt;00:00, 15.8kB/s]"
          }
        },
        "a1635fd4c0cb4e358ae6bd7a069100d3": {
          "model_module": "@jupyter-widgets/base",
          "model_name": "LayoutModel",
          "model_module_version": "1.2.0",
          "state": {
            "_model_module": "@jupyter-widgets/base",
            "_model_module_version": "1.2.0",
            "_model_name": "LayoutModel",
            "_view_count": null,
            "_view_module": "@jupyter-widgets/base",
            "_view_module_version": "1.2.0",
            "_view_name": "LayoutView",
            "align_content": null,
            "align_items": null,
            "align_self": null,
            "border": null,
            "bottom": null,
            "display": null,
            "flex": null,
            "flex_flow": null,
            "grid_area": null,
            "grid_auto_columns": null,
            "grid_auto_flow": null,
            "grid_auto_rows": null,
            "grid_column": null,
            "grid_gap": null,
            "grid_row": null,
            "grid_template_areas": null,
            "grid_template_columns": null,
            "grid_template_rows": null,
            "height": null,
            "justify_content": null,
            "justify_items": null,
            "left": null,
            "margin": null,
            "max_height": null,
            "max_width": null,
            "min_height": null,
            "min_width": null,
            "object_fit": null,
            "object_position": null,
            "order": null,
            "overflow": null,
            "overflow_x": null,
            "overflow_y": null,
            "padding": null,
            "right": null,
            "top": null,
            "visibility": null,
            "width": null
          }
        },
        "42c9e235d0c548c7bf089a503b7a48f2": {
          "model_module": "@jupyter-widgets/base",
          "model_name": "LayoutModel",
          "model_module_version": "1.2.0",
          "state": {
            "_model_module": "@jupyter-widgets/base",
            "_model_module_version": "1.2.0",
            "_model_name": "LayoutModel",
            "_view_count": null,
            "_view_module": "@jupyter-widgets/base",
            "_view_module_version": "1.2.0",
            "_view_name": "LayoutView",
            "align_content": null,
            "align_items": null,
            "align_self": null,
            "border": null,
            "bottom": null,
            "display": null,
            "flex": null,
            "flex_flow": null,
            "grid_area": null,
            "grid_auto_columns": null,
            "grid_auto_flow": null,
            "grid_auto_rows": null,
            "grid_column": null,
            "grid_gap": null,
            "grid_row": null,
            "grid_template_areas": null,
            "grid_template_columns": null,
            "grid_template_rows": null,
            "height": null,
            "justify_content": null,
            "justify_items": null,
            "left": null,
            "margin": null,
            "max_height": null,
            "max_width": null,
            "min_height": null,
            "min_width": null,
            "object_fit": null,
            "object_position": null,
            "order": null,
            "overflow": null,
            "overflow_x": null,
            "overflow_y": null,
            "padding": null,
            "right": null,
            "top": null,
            "visibility": null,
            "width": null
          }
        },
        "68c3ffd587384fd78c28cd59fdb08a08": {
          "model_module": "@jupyter-widgets/controls",
          "model_name": "DescriptionStyleModel",
          "model_module_version": "1.5.0",
          "state": {
            "_model_module": "@jupyter-widgets/controls",
            "_model_module_version": "1.5.0",
            "_model_name": "DescriptionStyleModel",
            "_view_count": null,
            "_view_module": "@jupyter-widgets/base",
            "_view_module_version": "1.2.0",
            "_view_name": "StyleView",
            "description_width": ""
          }
        },
        "9722886ec13b4b3c8c79445da1b79629": {
          "model_module": "@jupyter-widgets/base",
          "model_name": "LayoutModel",
          "model_module_version": "1.2.0",
          "state": {
            "_model_module": "@jupyter-widgets/base",
            "_model_module_version": "1.2.0",
            "_model_name": "LayoutModel",
            "_view_count": null,
            "_view_module": "@jupyter-widgets/base",
            "_view_module_version": "1.2.0",
            "_view_name": "LayoutView",
            "align_content": null,
            "align_items": null,
            "align_self": null,
            "border": null,
            "bottom": null,
            "display": null,
            "flex": null,
            "flex_flow": null,
            "grid_area": null,
            "grid_auto_columns": null,
            "grid_auto_flow": null,
            "grid_auto_rows": null,
            "grid_column": null,
            "grid_gap": null,
            "grid_row": null,
            "grid_template_areas": null,
            "grid_template_columns": null,
            "grid_template_rows": null,
            "height": null,
            "justify_content": null,
            "justify_items": null,
            "left": null,
            "margin": null,
            "max_height": null,
            "max_width": null,
            "min_height": null,
            "min_width": null,
            "object_fit": null,
            "object_position": null,
            "order": null,
            "overflow": null,
            "overflow_x": null,
            "overflow_y": null,
            "padding": null,
            "right": null,
            "top": null,
            "visibility": null,
            "width": null
          }
        },
        "034775298d06416b9b666a6e1d0b03f6": {
          "model_module": "@jupyter-widgets/controls",
          "model_name": "ProgressStyleModel",
          "model_module_version": "1.5.0",
          "state": {
            "_model_module": "@jupyter-widgets/controls",
            "_model_module_version": "1.5.0",
            "_model_name": "ProgressStyleModel",
            "_view_count": null,
            "_view_module": "@jupyter-widgets/base",
            "_view_module_version": "1.2.0",
            "_view_name": "StyleView",
            "bar_color": null,
            "description_width": ""
          }
        },
        "212c078287d44a8d8782279d94b074f8": {
          "model_module": "@jupyter-widgets/base",
          "model_name": "LayoutModel",
          "model_module_version": "1.2.0",
          "state": {
            "_model_module": "@jupyter-widgets/base",
            "_model_module_version": "1.2.0",
            "_model_name": "LayoutModel",
            "_view_count": null,
            "_view_module": "@jupyter-widgets/base",
            "_view_module_version": "1.2.0",
            "_view_name": "LayoutView",
            "align_content": null,
            "align_items": null,
            "align_self": null,
            "border": null,
            "bottom": null,
            "display": null,
            "flex": null,
            "flex_flow": null,
            "grid_area": null,
            "grid_auto_columns": null,
            "grid_auto_flow": null,
            "grid_auto_rows": null,
            "grid_column": null,
            "grid_gap": null,
            "grid_row": null,
            "grid_template_areas": null,
            "grid_template_columns": null,
            "grid_template_rows": null,
            "height": null,
            "justify_content": null,
            "justify_items": null,
            "left": null,
            "margin": null,
            "max_height": null,
            "max_width": null,
            "min_height": null,
            "min_width": null,
            "object_fit": null,
            "object_position": null,
            "order": null,
            "overflow": null,
            "overflow_x": null,
            "overflow_y": null,
            "padding": null,
            "right": null,
            "top": null,
            "visibility": null,
            "width": null
          }
        },
        "77ce0a6abfb2469da97bef0083cf8d26": {
          "model_module": "@jupyter-widgets/controls",
          "model_name": "DescriptionStyleModel",
          "model_module_version": "1.5.0",
          "state": {
            "_model_module": "@jupyter-widgets/controls",
            "_model_module_version": "1.5.0",
            "_model_name": "DescriptionStyleModel",
            "_view_count": null,
            "_view_module": "@jupyter-widgets/base",
            "_view_module_version": "1.2.0",
            "_view_name": "StyleView",
            "description_width": ""
          }
        },
        "567f499a00ec4f20913d9d9d089a297d": {
          "model_module": "@jupyter-widgets/controls",
          "model_name": "HBoxModel",
          "model_module_version": "1.5.0",
          "state": {
            "_dom_classes": [],
            "_model_module": "@jupyter-widgets/controls",
            "_model_module_version": "1.5.0",
            "_model_name": "HBoxModel",
            "_view_count": null,
            "_view_module": "@jupyter-widgets/controls",
            "_view_module_version": "1.5.0",
            "_view_name": "HBoxView",
            "box_style": "",
            "children": [
              "IPY_MODEL_61f0cf72407544ad87135d1150a3ab70",
              "IPY_MODEL_f4582a1d6dd74575a330f17f6d3c22b3",
              "IPY_MODEL_14fc98ed260d4ddf92f343625a268615"
            ],
            "layout": "IPY_MODEL_ae7f3e6581b44789b6485e27757619eb"
          }
        },
        "61f0cf72407544ad87135d1150a3ab70": {
          "model_module": "@jupyter-widgets/controls",
          "model_name": "HTMLModel",
          "model_module_version": "1.5.0",
          "state": {
            "_dom_classes": [],
            "_model_module": "@jupyter-widgets/controls",
            "_model_module_version": "1.5.0",
            "_model_name": "HTMLModel",
            "_view_count": null,
            "_view_module": "@jupyter-widgets/controls",
            "_view_module_version": "1.5.0",
            "_view_name": "HTMLView",
            "description": "",
            "description_tooltip": null,
            "layout": "IPY_MODEL_1a08a509e8144ddc8ea23761df56ffbe",
            "placeholder": "​",
            "style": "IPY_MODEL_ebd9606a851c49bda334e82403087c44",
            "value": "Downloading: 100%"
          }
        },
        "f4582a1d6dd74575a330f17f6d3c22b3": {
          "model_module": "@jupyter-widgets/controls",
          "model_name": "FloatProgressModel",
          "model_module_version": "1.5.0",
          "state": {
            "_dom_classes": [],
            "_model_module": "@jupyter-widgets/controls",
            "_model_module_version": "1.5.0",
            "_model_name": "FloatProgressModel",
            "_view_count": null,
            "_view_module": "@jupyter-widgets/controls",
            "_view_module_version": "1.5.0",
            "_view_name": "ProgressView",
            "bar_style": "success",
            "description": "",
            "description_tooltip": null,
            "layout": "IPY_MODEL_c0478abc41b442b7af320e5c0a06a518",
            "max": 904693,
            "min": 0,
            "orientation": "horizontal",
            "style": "IPY_MODEL_46094f7490ef418b9519545ca6a7fc61",
            "value": 904693
          }
        },
        "14fc98ed260d4ddf92f343625a268615": {
          "model_module": "@jupyter-widgets/controls",
          "model_name": "HTMLModel",
          "model_module_version": "1.5.0",
          "state": {
            "_dom_classes": [],
            "_model_module": "@jupyter-widgets/controls",
            "_model_module_version": "1.5.0",
            "_model_name": "HTMLModel",
            "_view_count": null,
            "_view_module": "@jupyter-widgets/controls",
            "_view_module_version": "1.5.0",
            "_view_name": "HTMLView",
            "description": "",
            "description_tooltip": null,
            "layout": "IPY_MODEL_a17e5ec4188046ed97688b82e32a80f9",
            "placeholder": "​",
            "style": "IPY_MODEL_ab381c50803e4174b09e3f8f1a63a7c8",
            "value": " 905k/905k [00:00&lt;00:00, 3.02MB/s]"
          }
        },
        "ae7f3e6581b44789b6485e27757619eb": {
          "model_module": "@jupyter-widgets/base",
          "model_name": "LayoutModel",
          "model_module_version": "1.2.0",
          "state": {
            "_model_module": "@jupyter-widgets/base",
            "_model_module_version": "1.2.0",
            "_model_name": "LayoutModel",
            "_view_count": null,
            "_view_module": "@jupyter-widgets/base",
            "_view_module_version": "1.2.0",
            "_view_name": "LayoutView",
            "align_content": null,
            "align_items": null,
            "align_self": null,
            "border": null,
            "bottom": null,
            "display": null,
            "flex": null,
            "flex_flow": null,
            "grid_area": null,
            "grid_auto_columns": null,
            "grid_auto_flow": null,
            "grid_auto_rows": null,
            "grid_column": null,
            "grid_gap": null,
            "grid_row": null,
            "grid_template_areas": null,
            "grid_template_columns": null,
            "grid_template_rows": null,
            "height": null,
            "justify_content": null,
            "justify_items": null,
            "left": null,
            "margin": null,
            "max_height": null,
            "max_width": null,
            "min_height": null,
            "min_width": null,
            "object_fit": null,
            "object_position": null,
            "order": null,
            "overflow": null,
            "overflow_x": null,
            "overflow_y": null,
            "padding": null,
            "right": null,
            "top": null,
            "visibility": null,
            "width": null
          }
        },
        "1a08a509e8144ddc8ea23761df56ffbe": {
          "model_module": "@jupyter-widgets/base",
          "model_name": "LayoutModel",
          "model_module_version": "1.2.0",
          "state": {
            "_model_module": "@jupyter-widgets/base",
            "_model_module_version": "1.2.0",
            "_model_name": "LayoutModel",
            "_view_count": null,
            "_view_module": "@jupyter-widgets/base",
            "_view_module_version": "1.2.0",
            "_view_name": "LayoutView",
            "align_content": null,
            "align_items": null,
            "align_self": null,
            "border": null,
            "bottom": null,
            "display": null,
            "flex": null,
            "flex_flow": null,
            "grid_area": null,
            "grid_auto_columns": null,
            "grid_auto_flow": null,
            "grid_auto_rows": null,
            "grid_column": null,
            "grid_gap": null,
            "grid_row": null,
            "grid_template_areas": null,
            "grid_template_columns": null,
            "grid_template_rows": null,
            "height": null,
            "justify_content": null,
            "justify_items": null,
            "left": null,
            "margin": null,
            "max_height": null,
            "max_width": null,
            "min_height": null,
            "min_width": null,
            "object_fit": null,
            "object_position": null,
            "order": null,
            "overflow": null,
            "overflow_x": null,
            "overflow_y": null,
            "padding": null,
            "right": null,
            "top": null,
            "visibility": null,
            "width": null
          }
        },
        "ebd9606a851c49bda334e82403087c44": {
          "model_module": "@jupyter-widgets/controls",
          "model_name": "DescriptionStyleModel",
          "model_module_version": "1.5.0",
          "state": {
            "_model_module": "@jupyter-widgets/controls",
            "_model_module_version": "1.5.0",
            "_model_name": "DescriptionStyleModel",
            "_view_count": null,
            "_view_module": "@jupyter-widgets/base",
            "_view_module_version": "1.2.0",
            "_view_name": "StyleView",
            "description_width": ""
          }
        },
        "c0478abc41b442b7af320e5c0a06a518": {
          "model_module": "@jupyter-widgets/base",
          "model_name": "LayoutModel",
          "model_module_version": "1.2.0",
          "state": {
            "_model_module": "@jupyter-widgets/base",
            "_model_module_version": "1.2.0",
            "_model_name": "LayoutModel",
            "_view_count": null,
            "_view_module": "@jupyter-widgets/base",
            "_view_module_version": "1.2.0",
            "_view_name": "LayoutView",
            "align_content": null,
            "align_items": null,
            "align_self": null,
            "border": null,
            "bottom": null,
            "display": null,
            "flex": null,
            "flex_flow": null,
            "grid_area": null,
            "grid_auto_columns": null,
            "grid_auto_flow": null,
            "grid_auto_rows": null,
            "grid_column": null,
            "grid_gap": null,
            "grid_row": null,
            "grid_template_areas": null,
            "grid_template_columns": null,
            "grid_template_rows": null,
            "height": null,
            "justify_content": null,
            "justify_items": null,
            "left": null,
            "margin": null,
            "max_height": null,
            "max_width": null,
            "min_height": null,
            "min_width": null,
            "object_fit": null,
            "object_position": null,
            "order": null,
            "overflow": null,
            "overflow_x": null,
            "overflow_y": null,
            "padding": null,
            "right": null,
            "top": null,
            "visibility": null,
            "width": null
          }
        },
        "46094f7490ef418b9519545ca6a7fc61": {
          "model_module": "@jupyter-widgets/controls",
          "model_name": "ProgressStyleModel",
          "model_module_version": "1.5.0",
          "state": {
            "_model_module": "@jupyter-widgets/controls",
            "_model_module_version": "1.5.0",
            "_model_name": "ProgressStyleModel",
            "_view_count": null,
            "_view_module": "@jupyter-widgets/base",
            "_view_module_version": "1.2.0",
            "_view_name": "StyleView",
            "bar_color": null,
            "description_width": ""
          }
        },
        "a17e5ec4188046ed97688b82e32a80f9": {
          "model_module": "@jupyter-widgets/base",
          "model_name": "LayoutModel",
          "model_module_version": "1.2.0",
          "state": {
            "_model_module": "@jupyter-widgets/base",
            "_model_module_version": "1.2.0",
            "_model_name": "LayoutModel",
            "_view_count": null,
            "_view_module": "@jupyter-widgets/base",
            "_view_module_version": "1.2.0",
            "_view_name": "LayoutView",
            "align_content": null,
            "align_items": null,
            "align_self": null,
            "border": null,
            "bottom": null,
            "display": null,
            "flex": null,
            "flex_flow": null,
            "grid_area": null,
            "grid_auto_columns": null,
            "grid_auto_flow": null,
            "grid_auto_rows": null,
            "grid_column": null,
            "grid_gap": null,
            "grid_row": null,
            "grid_template_areas": null,
            "grid_template_columns": null,
            "grid_template_rows": null,
            "height": null,
            "justify_content": null,
            "justify_items": null,
            "left": null,
            "margin": null,
            "max_height": null,
            "max_width": null,
            "min_height": null,
            "min_width": null,
            "object_fit": null,
            "object_position": null,
            "order": null,
            "overflow": null,
            "overflow_x": null,
            "overflow_y": null,
            "padding": null,
            "right": null,
            "top": null,
            "visibility": null,
            "width": null
          }
        },
        "ab381c50803e4174b09e3f8f1a63a7c8": {
          "model_module": "@jupyter-widgets/controls",
          "model_name": "DescriptionStyleModel",
          "model_module_version": "1.5.0",
          "state": {
            "_model_module": "@jupyter-widgets/controls",
            "_model_module_version": "1.5.0",
            "_model_name": "DescriptionStyleModel",
            "_view_count": null,
            "_view_module": "@jupyter-widgets/base",
            "_view_module_version": "1.2.0",
            "_view_name": "StyleView",
            "description_width": ""
          }
        },
        "00db712f60f949dc9179a1d02d8b6930": {
          "model_module": "@jupyter-widgets/controls",
          "model_name": "HBoxModel",
          "model_module_version": "1.5.0",
          "state": {
            "_dom_classes": [],
            "_model_module": "@jupyter-widgets/controls",
            "_model_module_version": "1.5.0",
            "_model_name": "HBoxModel",
            "_view_count": null,
            "_view_module": "@jupyter-widgets/controls",
            "_view_module_version": "1.5.0",
            "_view_name": "HBoxView",
            "box_style": "",
            "children": [
              "IPY_MODEL_87d7a7ae30954a34aef438fb9be8c644",
              "IPY_MODEL_e93da26cec5c4f9abe6fe4f7fe7e192a",
              "IPY_MODEL_f2764e5c199c41bda382f35ebeebb8b5"
            ],
            "layout": "IPY_MODEL_b487dc7c481b4a40a15c04ee797606e8"
          }
        },
        "87d7a7ae30954a34aef438fb9be8c644": {
          "model_module": "@jupyter-widgets/controls",
          "model_name": "HTMLModel",
          "model_module_version": "1.5.0",
          "state": {
            "_dom_classes": [],
            "_model_module": "@jupyter-widgets/controls",
            "_model_module_version": "1.5.0",
            "_model_name": "HTMLModel",
            "_view_count": null,
            "_view_module": "@jupyter-widgets/controls",
            "_view_module_version": "1.5.0",
            "_view_name": "HTMLView",
            "description": "",
            "description_tooltip": null,
            "layout": "IPY_MODEL_f212edf1fd694f979d66371cd8617479",
            "placeholder": "​",
            "style": "IPY_MODEL_b995e8aa3ffc44c8b83bd481b15d494a",
            "value": "Downloading: 100%"
          }
        },
        "e93da26cec5c4f9abe6fe4f7fe7e192a": {
          "model_module": "@jupyter-widgets/controls",
          "model_name": "FloatProgressModel",
          "model_module_version": "1.5.0",
          "state": {
            "_dom_classes": [],
            "_model_module": "@jupyter-widgets/controls",
            "_model_module_version": "1.5.0",
            "_model_name": "FloatProgressModel",
            "_view_count": null,
            "_view_module": "@jupyter-widgets/controls",
            "_view_module_version": "1.5.0",
            "_view_name": "ProgressView",
            "bar_style": "success",
            "description": "",
            "description_tooltip": null,
            "layout": "IPY_MODEL_8ec26d9c64864159b14351ab33be6e1e",
            "max": 282,
            "min": 0,
            "orientation": "horizontal",
            "style": "IPY_MODEL_e4ee5742494a4975b8b7d7fc02692a98",
            "value": 282
          }
        },
        "f2764e5c199c41bda382f35ebeebb8b5": {
          "model_module": "@jupyter-widgets/controls",
          "model_name": "HTMLModel",
          "model_module_version": "1.5.0",
          "state": {
            "_dom_classes": [],
            "_model_module": "@jupyter-widgets/controls",
            "_model_module_version": "1.5.0",
            "_model_name": "HTMLModel",
            "_view_count": null,
            "_view_module": "@jupyter-widgets/controls",
            "_view_module_version": "1.5.0",
            "_view_name": "HTMLView",
            "description": "",
            "description_tooltip": null,
            "layout": "IPY_MODEL_d2edb39a78f04c7382f35c2da64f4e34",
            "placeholder": "​",
            "style": "IPY_MODEL_c294d11b515b44188e1f4b5e4eb85e9c",
            "value": " 282/282 [00:00&lt;00:00, 8.44kB/s]"
          }
        },
        "b487dc7c481b4a40a15c04ee797606e8": {
          "model_module": "@jupyter-widgets/base",
          "model_name": "LayoutModel",
          "model_module_version": "1.2.0",
          "state": {
            "_model_module": "@jupyter-widgets/base",
            "_model_module_version": "1.2.0",
            "_model_name": "LayoutModel",
            "_view_count": null,
            "_view_module": "@jupyter-widgets/base",
            "_view_module_version": "1.2.0",
            "_view_name": "LayoutView",
            "align_content": null,
            "align_items": null,
            "align_self": null,
            "border": null,
            "bottom": null,
            "display": null,
            "flex": null,
            "flex_flow": null,
            "grid_area": null,
            "grid_auto_columns": null,
            "grid_auto_flow": null,
            "grid_auto_rows": null,
            "grid_column": null,
            "grid_gap": null,
            "grid_row": null,
            "grid_template_areas": null,
            "grid_template_columns": null,
            "grid_template_rows": null,
            "height": null,
            "justify_content": null,
            "justify_items": null,
            "left": null,
            "margin": null,
            "max_height": null,
            "max_width": null,
            "min_height": null,
            "min_width": null,
            "object_fit": null,
            "object_position": null,
            "order": null,
            "overflow": null,
            "overflow_x": null,
            "overflow_y": null,
            "padding": null,
            "right": null,
            "top": null,
            "visibility": null,
            "width": null
          }
        },
        "f212edf1fd694f979d66371cd8617479": {
          "model_module": "@jupyter-widgets/base",
          "model_name": "LayoutModel",
          "model_module_version": "1.2.0",
          "state": {
            "_model_module": "@jupyter-widgets/base",
            "_model_module_version": "1.2.0",
            "_model_name": "LayoutModel",
            "_view_count": null,
            "_view_module": "@jupyter-widgets/base",
            "_view_module_version": "1.2.0",
            "_view_name": "LayoutView",
            "align_content": null,
            "align_items": null,
            "align_self": null,
            "border": null,
            "bottom": null,
            "display": null,
            "flex": null,
            "flex_flow": null,
            "grid_area": null,
            "grid_auto_columns": null,
            "grid_auto_flow": null,
            "grid_auto_rows": null,
            "grid_column": null,
            "grid_gap": null,
            "grid_row": null,
            "grid_template_areas": null,
            "grid_template_columns": null,
            "grid_template_rows": null,
            "height": null,
            "justify_content": null,
            "justify_items": null,
            "left": null,
            "margin": null,
            "max_height": null,
            "max_width": null,
            "min_height": null,
            "min_width": null,
            "object_fit": null,
            "object_position": null,
            "order": null,
            "overflow": null,
            "overflow_x": null,
            "overflow_y": null,
            "padding": null,
            "right": null,
            "top": null,
            "visibility": null,
            "width": null
          }
        },
        "b995e8aa3ffc44c8b83bd481b15d494a": {
          "model_module": "@jupyter-widgets/controls",
          "model_name": "DescriptionStyleModel",
          "model_module_version": "1.5.0",
          "state": {
            "_model_module": "@jupyter-widgets/controls",
            "_model_module_version": "1.5.0",
            "_model_name": "DescriptionStyleModel",
            "_view_count": null,
            "_view_module": "@jupyter-widgets/base",
            "_view_module_version": "1.2.0",
            "_view_name": "StyleView",
            "description_width": ""
          }
        },
        "8ec26d9c64864159b14351ab33be6e1e": {
          "model_module": "@jupyter-widgets/base",
          "model_name": "LayoutModel",
          "model_module_version": "1.2.0",
          "state": {
            "_model_module": "@jupyter-widgets/base",
            "_model_module_version": "1.2.0",
            "_model_name": "LayoutModel",
            "_view_count": null,
            "_view_module": "@jupyter-widgets/base",
            "_view_module_version": "1.2.0",
            "_view_name": "LayoutView",
            "align_content": null,
            "align_items": null,
            "align_self": null,
            "border": null,
            "bottom": null,
            "display": null,
            "flex": null,
            "flex_flow": null,
            "grid_area": null,
            "grid_auto_columns": null,
            "grid_auto_flow": null,
            "grid_auto_rows": null,
            "grid_column": null,
            "grid_gap": null,
            "grid_row": null,
            "grid_template_areas": null,
            "grid_template_columns": null,
            "grid_template_rows": null,
            "height": null,
            "justify_content": null,
            "justify_items": null,
            "left": null,
            "margin": null,
            "max_height": null,
            "max_width": null,
            "min_height": null,
            "min_width": null,
            "object_fit": null,
            "object_position": null,
            "order": null,
            "overflow": null,
            "overflow_x": null,
            "overflow_y": null,
            "padding": null,
            "right": null,
            "top": null,
            "visibility": null,
            "width": null
          }
        },
        "e4ee5742494a4975b8b7d7fc02692a98": {
          "model_module": "@jupyter-widgets/controls",
          "model_name": "ProgressStyleModel",
          "model_module_version": "1.5.0",
          "state": {
            "_model_module": "@jupyter-widgets/controls",
            "_model_module_version": "1.5.0",
            "_model_name": "ProgressStyleModel",
            "_view_count": null,
            "_view_module": "@jupyter-widgets/base",
            "_view_module_version": "1.2.0",
            "_view_name": "StyleView",
            "bar_color": null,
            "description_width": ""
          }
        },
        "d2edb39a78f04c7382f35c2da64f4e34": {
          "model_module": "@jupyter-widgets/base",
          "model_name": "LayoutModel",
          "model_module_version": "1.2.0",
          "state": {
            "_model_module": "@jupyter-widgets/base",
            "_model_module_version": "1.2.0",
            "_model_name": "LayoutModel",
            "_view_count": null,
            "_view_module": "@jupyter-widgets/base",
            "_view_module_version": "1.2.0",
            "_view_name": "LayoutView",
            "align_content": null,
            "align_items": null,
            "align_self": null,
            "border": null,
            "bottom": null,
            "display": null,
            "flex": null,
            "flex_flow": null,
            "grid_area": null,
            "grid_auto_columns": null,
            "grid_auto_flow": null,
            "grid_auto_rows": null,
            "grid_column": null,
            "grid_gap": null,
            "grid_row": null,
            "grid_template_areas": null,
            "grid_template_columns": null,
            "grid_template_rows": null,
            "height": null,
            "justify_content": null,
            "justify_items": null,
            "left": null,
            "margin": null,
            "max_height": null,
            "max_width": null,
            "min_height": null,
            "min_width": null,
            "object_fit": null,
            "object_position": null,
            "order": null,
            "overflow": null,
            "overflow_x": null,
            "overflow_y": null,
            "padding": null,
            "right": null,
            "top": null,
            "visibility": null,
            "width": null
          }
        },
        "c294d11b515b44188e1f4b5e4eb85e9c": {
          "model_module": "@jupyter-widgets/controls",
          "model_name": "DescriptionStyleModel",
          "model_module_version": "1.5.0",
          "state": {
            "_model_module": "@jupyter-widgets/controls",
            "_model_module_version": "1.5.0",
            "_model_name": "DescriptionStyleModel",
            "_view_count": null,
            "_view_module": "@jupyter-widgets/base",
            "_view_module_version": "1.2.0",
            "_view_name": "StyleView",
            "description_width": ""
          }
        },
        "0b2c5cff03b74f068d4004d5c8c99447": {
          "model_module": "@jupyter-widgets/controls",
          "model_name": "HBoxModel",
          "model_module_version": "1.5.0",
          "state": {
            "_dom_classes": [],
            "_model_module": "@jupyter-widgets/controls",
            "_model_module_version": "1.5.0",
            "_model_name": "HBoxModel",
            "_view_count": null,
            "_view_module": "@jupyter-widgets/controls",
            "_view_module_version": "1.5.0",
            "_view_name": "HBoxView",
            "box_style": "",
            "children": [
              "IPY_MODEL_0b6db02c68b7409aa2617e77c7e20611",
              "IPY_MODEL_48ca2222d30b4dac9aca41dbf7275c11",
              "IPY_MODEL_8ed5d39cf234428290e0ba29adbe11c7"
            ],
            "layout": "IPY_MODEL_a8913c1e2bec4fca8888f4440753a27d"
          }
        },
        "0b6db02c68b7409aa2617e77c7e20611": {
          "model_module": "@jupyter-widgets/controls",
          "model_name": "HTMLModel",
          "model_module_version": "1.5.0",
          "state": {
            "_dom_classes": [],
            "_model_module": "@jupyter-widgets/controls",
            "_model_module_version": "1.5.0",
            "_model_name": "HTMLModel",
            "_view_count": null,
            "_view_module": "@jupyter-widgets/controls",
            "_view_module_version": "1.5.0",
            "_view_name": "HTMLView",
            "description": "",
            "description_tooltip": null,
            "layout": "IPY_MODEL_d631890aaf89493bbe2dcb3b170938e4",
            "placeholder": "​",
            "style": "IPY_MODEL_ab2196da8ec4493385f7e656e1f7d1c3",
            "value": "Downloading: 100%"
          }
        },
        "48ca2222d30b4dac9aca41dbf7275c11": {
          "model_module": "@jupyter-widgets/controls",
          "model_name": "FloatProgressModel",
          "model_module_version": "1.5.0",
          "state": {
            "_dom_classes": [],
            "_model_module": "@jupyter-widgets/controls",
            "_model_module_version": "1.5.0",
            "_model_name": "FloatProgressModel",
            "_view_count": null,
            "_view_module": "@jupyter-widgets/controls",
            "_view_module_version": "1.5.0",
            "_view_name": "ProgressView",
            "bar_style": "success",
            "description": "",
            "description_tooltip": null,
            "layout": "IPY_MODEL_a06aaf31140541d58ad9c0cdc74e1d2d",
            "max": 423498558,
            "min": 0,
            "orientation": "horizontal",
            "style": "IPY_MODEL_0cc624c3c4eb40848921e1af933ecb38",
            "value": 423498558
          }
        },
        "8ed5d39cf234428290e0ba29adbe11c7": {
          "model_module": "@jupyter-widgets/controls",
          "model_name": "HTMLModel",
          "model_module_version": "1.5.0",
          "state": {
            "_dom_classes": [],
            "_model_module": "@jupyter-widgets/controls",
            "_model_module_version": "1.5.0",
            "_model_name": "HTMLModel",
            "_view_count": null,
            "_view_module": "@jupyter-widgets/controls",
            "_view_module_version": "1.5.0",
            "_view_name": "HTMLView",
            "description": "",
            "description_tooltip": null,
            "layout": "IPY_MODEL_bc0528a5421b4d7fb86eb5b22c86bcef",
            "placeholder": "​",
            "style": "IPY_MODEL_f6eddd24269845e7948be652f3c4648d",
            "value": " 423M/423M [00:27&lt;00:00, 7.48MB/s]"
          }
        },
        "a8913c1e2bec4fca8888f4440753a27d": {
          "model_module": "@jupyter-widgets/base",
          "model_name": "LayoutModel",
          "model_module_version": "1.2.0",
          "state": {
            "_model_module": "@jupyter-widgets/base",
            "_model_module_version": "1.2.0",
            "_model_name": "LayoutModel",
            "_view_count": null,
            "_view_module": "@jupyter-widgets/base",
            "_view_module_version": "1.2.0",
            "_view_name": "LayoutView",
            "align_content": null,
            "align_items": null,
            "align_self": null,
            "border": null,
            "bottom": null,
            "display": null,
            "flex": null,
            "flex_flow": null,
            "grid_area": null,
            "grid_auto_columns": null,
            "grid_auto_flow": null,
            "grid_auto_rows": null,
            "grid_column": null,
            "grid_gap": null,
            "grid_row": null,
            "grid_template_areas": null,
            "grid_template_columns": null,
            "grid_template_rows": null,
            "height": null,
            "justify_content": null,
            "justify_items": null,
            "left": null,
            "margin": null,
            "max_height": null,
            "max_width": null,
            "min_height": null,
            "min_width": null,
            "object_fit": null,
            "object_position": null,
            "order": null,
            "overflow": null,
            "overflow_x": null,
            "overflow_y": null,
            "padding": null,
            "right": null,
            "top": null,
            "visibility": null,
            "width": null
          }
        },
        "d631890aaf89493bbe2dcb3b170938e4": {
          "model_module": "@jupyter-widgets/base",
          "model_name": "LayoutModel",
          "model_module_version": "1.2.0",
          "state": {
            "_model_module": "@jupyter-widgets/base",
            "_model_module_version": "1.2.0",
            "_model_name": "LayoutModel",
            "_view_count": null,
            "_view_module": "@jupyter-widgets/base",
            "_view_module_version": "1.2.0",
            "_view_name": "LayoutView",
            "align_content": null,
            "align_items": null,
            "align_self": null,
            "border": null,
            "bottom": null,
            "display": null,
            "flex": null,
            "flex_flow": null,
            "grid_area": null,
            "grid_auto_columns": null,
            "grid_auto_flow": null,
            "grid_auto_rows": null,
            "grid_column": null,
            "grid_gap": null,
            "grid_row": null,
            "grid_template_areas": null,
            "grid_template_columns": null,
            "grid_template_rows": null,
            "height": null,
            "justify_content": null,
            "justify_items": null,
            "left": null,
            "margin": null,
            "max_height": null,
            "max_width": null,
            "min_height": null,
            "min_width": null,
            "object_fit": null,
            "object_position": null,
            "order": null,
            "overflow": null,
            "overflow_x": null,
            "overflow_y": null,
            "padding": null,
            "right": null,
            "top": null,
            "visibility": null,
            "width": null
          }
        },
        "ab2196da8ec4493385f7e656e1f7d1c3": {
          "model_module": "@jupyter-widgets/controls",
          "model_name": "DescriptionStyleModel",
          "model_module_version": "1.5.0",
          "state": {
            "_model_module": "@jupyter-widgets/controls",
            "_model_module_version": "1.5.0",
            "_model_name": "DescriptionStyleModel",
            "_view_count": null,
            "_view_module": "@jupyter-widgets/base",
            "_view_module_version": "1.2.0",
            "_view_name": "StyleView",
            "description_width": ""
          }
        },
        "a06aaf31140541d58ad9c0cdc74e1d2d": {
          "model_module": "@jupyter-widgets/base",
          "model_name": "LayoutModel",
          "model_module_version": "1.2.0",
          "state": {
            "_model_module": "@jupyter-widgets/base",
            "_model_module_version": "1.2.0",
            "_model_name": "LayoutModel",
            "_view_count": null,
            "_view_module": "@jupyter-widgets/base",
            "_view_module_version": "1.2.0",
            "_view_name": "LayoutView",
            "align_content": null,
            "align_items": null,
            "align_self": null,
            "border": null,
            "bottom": null,
            "display": null,
            "flex": null,
            "flex_flow": null,
            "grid_area": null,
            "grid_auto_columns": null,
            "grid_auto_flow": null,
            "grid_auto_rows": null,
            "grid_column": null,
            "grid_gap": null,
            "grid_row": null,
            "grid_template_areas": null,
            "grid_template_columns": null,
            "grid_template_rows": null,
            "height": null,
            "justify_content": null,
            "justify_items": null,
            "left": null,
            "margin": null,
            "max_height": null,
            "max_width": null,
            "min_height": null,
            "min_width": null,
            "object_fit": null,
            "object_position": null,
            "order": null,
            "overflow": null,
            "overflow_x": null,
            "overflow_y": null,
            "padding": null,
            "right": null,
            "top": null,
            "visibility": null,
            "width": null
          }
        },
        "0cc624c3c4eb40848921e1af933ecb38": {
          "model_module": "@jupyter-widgets/controls",
          "model_name": "ProgressStyleModel",
          "model_module_version": "1.5.0",
          "state": {
            "_model_module": "@jupyter-widgets/controls",
            "_model_module_version": "1.5.0",
            "_model_name": "ProgressStyleModel",
            "_view_count": null,
            "_view_module": "@jupyter-widgets/base",
            "_view_module_version": "1.2.0",
            "_view_name": "StyleView",
            "bar_color": null,
            "description_width": ""
          }
        },
        "bc0528a5421b4d7fb86eb5b22c86bcef": {
          "model_module": "@jupyter-widgets/base",
          "model_name": "LayoutModel",
          "model_module_version": "1.2.0",
          "state": {
            "_model_module": "@jupyter-widgets/base",
            "_model_module_version": "1.2.0",
            "_model_name": "LayoutModel",
            "_view_count": null,
            "_view_module": "@jupyter-widgets/base",
            "_view_module_version": "1.2.0",
            "_view_name": "LayoutView",
            "align_content": null,
            "align_items": null,
            "align_self": null,
            "border": null,
            "bottom": null,
            "display": null,
            "flex": null,
            "flex_flow": null,
            "grid_area": null,
            "grid_auto_columns": null,
            "grid_auto_flow": null,
            "grid_auto_rows": null,
            "grid_column": null,
            "grid_gap": null,
            "grid_row": null,
            "grid_template_areas": null,
            "grid_template_columns": null,
            "grid_template_rows": null,
            "height": null,
            "justify_content": null,
            "justify_items": null,
            "left": null,
            "margin": null,
            "max_height": null,
            "max_width": null,
            "min_height": null,
            "min_width": null,
            "object_fit": null,
            "object_position": null,
            "order": null,
            "overflow": null,
            "overflow_x": null,
            "overflow_y": null,
            "padding": null,
            "right": null,
            "top": null,
            "visibility": null,
            "width": null
          }
        },
        "f6eddd24269845e7948be652f3c4648d": {
          "model_module": "@jupyter-widgets/controls",
          "model_name": "DescriptionStyleModel",
          "model_module_version": "1.5.0",
          "state": {
            "_model_module": "@jupyter-widgets/controls",
            "_model_module_version": "1.5.0",
            "_model_name": "DescriptionStyleModel",
            "_view_count": null,
            "_view_module": "@jupyter-widgets/base",
            "_view_module_version": "1.2.0",
            "_view_name": "StyleView",
            "description_width": ""
          }
        },
        "c0e814eb89674c62b4bc5cd2264db905": {
          "model_module": "@jupyter-widgets/controls",
          "model_name": "HBoxModel",
          "model_module_version": "1.5.0",
          "state": {
            "_dom_classes": [],
            "_model_module": "@jupyter-widgets/controls",
            "_model_module_version": "1.5.0",
            "_model_name": "HBoxModel",
            "_view_count": null,
            "_view_module": "@jupyter-widgets/controls",
            "_view_module_version": "1.5.0",
            "_view_name": "HBoxView",
            "box_style": "",
            "children": [
              "IPY_MODEL_bde4f625a4f54db29da70f2fa5c1210d",
              "IPY_MODEL_428e72573c5a43b0969c7eb2cd6ebd83",
              "IPY_MODEL_f3d8e7f477224249ba8681d08bf4200c"
            ],
            "layout": "IPY_MODEL_77eeb31166614038a9240acbb6c29857"
          }
        },
        "bde4f625a4f54db29da70f2fa5c1210d": {
          "model_module": "@jupyter-widgets/controls",
          "model_name": "HTMLModel",
          "model_module_version": "1.5.0",
          "state": {
            "_dom_classes": [],
            "_model_module": "@jupyter-widgets/controls",
            "_model_module_version": "1.5.0",
            "_model_name": "HTMLModel",
            "_view_count": null,
            "_view_module": "@jupyter-widgets/controls",
            "_view_module_version": "1.5.0",
            "_view_name": "HTMLView",
            "description": "",
            "description_tooltip": null,
            "layout": "IPY_MODEL_0f052bd83656466b8b6ff1b81ed80862",
            "placeholder": "​",
            "style": "IPY_MODEL_9e359685890e4f0aa2df9a7adac51e29",
            "value": "Downloading: 100%"
          }
        },
        "428e72573c5a43b0969c7eb2cd6ebd83": {
          "model_module": "@jupyter-widgets/controls",
          "model_name": "FloatProgressModel",
          "model_module_version": "1.5.0",
          "state": {
            "_dom_classes": [],
            "_model_module": "@jupyter-widgets/controls",
            "_model_module_version": "1.5.0",
            "_model_name": "FloatProgressModel",
            "_view_count": null,
            "_view_module": "@jupyter-widgets/controls",
            "_view_module_version": "1.5.0",
            "_view_name": "ProgressView",
            "bar_style": "success",
            "description": "",
            "description_tooltip": null,
            "layout": "IPY_MODEL_c087af7eba37458090727f06f9749cfc",
            "max": 1789,
            "min": 0,
            "orientation": "horizontal",
            "style": "IPY_MODEL_47fee043fef442a28cc1c20f432a407d",
            "value": 1789
          }
        },
        "f3d8e7f477224249ba8681d08bf4200c": {
          "model_module": "@jupyter-widgets/controls",
          "model_name": "HTMLModel",
          "model_module_version": "1.5.0",
          "state": {
            "_dom_classes": [],
            "_model_module": "@jupyter-widgets/controls",
            "_model_module_version": "1.5.0",
            "_model_name": "HTMLModel",
            "_view_count": null,
            "_view_module": "@jupyter-widgets/controls",
            "_view_module_version": "1.5.0",
            "_view_name": "HTMLView",
            "description": "",
            "description_tooltip": null,
            "layout": "IPY_MODEL_d77f4aa423d342c7b5669e6e4c943979",
            "placeholder": "​",
            "style": "IPY_MODEL_3dc0ccd76f8244b9a3f99d563dfe6ba6",
            "value": " 1.79k/1.79k [00:00&lt;00:00, 53.4kB/s]"
          }
        },
        "77eeb31166614038a9240acbb6c29857": {
          "model_module": "@jupyter-widgets/base",
          "model_name": "LayoutModel",
          "model_module_version": "1.2.0",
          "state": {
            "_model_module": "@jupyter-widgets/base",
            "_model_module_version": "1.2.0",
            "_model_name": "LayoutModel",
            "_view_count": null,
            "_view_module": "@jupyter-widgets/base",
            "_view_module_version": "1.2.0",
            "_view_name": "LayoutView",
            "align_content": null,
            "align_items": null,
            "align_self": null,
            "border": null,
            "bottom": null,
            "display": null,
            "flex": null,
            "flex_flow": null,
            "grid_area": null,
            "grid_auto_columns": null,
            "grid_auto_flow": null,
            "grid_auto_rows": null,
            "grid_column": null,
            "grid_gap": null,
            "grid_row": null,
            "grid_template_areas": null,
            "grid_template_columns": null,
            "grid_template_rows": null,
            "height": null,
            "justify_content": null,
            "justify_items": null,
            "left": null,
            "margin": null,
            "max_height": null,
            "max_width": null,
            "min_height": null,
            "min_width": null,
            "object_fit": null,
            "object_position": null,
            "order": null,
            "overflow": null,
            "overflow_x": null,
            "overflow_y": null,
            "padding": null,
            "right": null,
            "top": null,
            "visibility": null,
            "width": null
          }
        },
        "0f052bd83656466b8b6ff1b81ed80862": {
          "model_module": "@jupyter-widgets/base",
          "model_name": "LayoutModel",
          "model_module_version": "1.2.0",
          "state": {
            "_model_module": "@jupyter-widgets/base",
            "_model_module_version": "1.2.0",
            "_model_name": "LayoutModel",
            "_view_count": null,
            "_view_module": "@jupyter-widgets/base",
            "_view_module_version": "1.2.0",
            "_view_name": "LayoutView",
            "align_content": null,
            "align_items": null,
            "align_self": null,
            "border": null,
            "bottom": null,
            "display": null,
            "flex": null,
            "flex_flow": null,
            "grid_area": null,
            "grid_auto_columns": null,
            "grid_auto_flow": null,
            "grid_auto_rows": null,
            "grid_column": null,
            "grid_gap": null,
            "grid_row": null,
            "grid_template_areas": null,
            "grid_template_columns": null,
            "grid_template_rows": null,
            "height": null,
            "justify_content": null,
            "justify_items": null,
            "left": null,
            "margin": null,
            "max_height": null,
            "max_width": null,
            "min_height": null,
            "min_width": null,
            "object_fit": null,
            "object_position": null,
            "order": null,
            "overflow": null,
            "overflow_x": null,
            "overflow_y": null,
            "padding": null,
            "right": null,
            "top": null,
            "visibility": null,
            "width": null
          }
        },
        "9e359685890e4f0aa2df9a7adac51e29": {
          "model_module": "@jupyter-widgets/controls",
          "model_name": "DescriptionStyleModel",
          "model_module_version": "1.5.0",
          "state": {
            "_model_module": "@jupyter-widgets/controls",
            "_model_module_version": "1.5.0",
            "_model_name": "DescriptionStyleModel",
            "_view_count": null,
            "_view_module": "@jupyter-widgets/base",
            "_view_module_version": "1.2.0",
            "_view_name": "StyleView",
            "description_width": ""
          }
        },
        "c087af7eba37458090727f06f9749cfc": {
          "model_module": "@jupyter-widgets/base",
          "model_name": "LayoutModel",
          "model_module_version": "1.2.0",
          "state": {
            "_model_module": "@jupyter-widgets/base",
            "_model_module_version": "1.2.0",
            "_model_name": "LayoutModel",
            "_view_count": null,
            "_view_module": "@jupyter-widgets/base",
            "_view_module_version": "1.2.0",
            "_view_name": "LayoutView",
            "align_content": null,
            "align_items": null,
            "align_self": null,
            "border": null,
            "bottom": null,
            "display": null,
            "flex": null,
            "flex_flow": null,
            "grid_area": null,
            "grid_auto_columns": null,
            "grid_auto_flow": null,
            "grid_auto_rows": null,
            "grid_column": null,
            "grid_gap": null,
            "grid_row": null,
            "grid_template_areas": null,
            "grid_template_columns": null,
            "grid_template_rows": null,
            "height": null,
            "justify_content": null,
            "justify_items": null,
            "left": null,
            "margin": null,
            "max_height": null,
            "max_width": null,
            "min_height": null,
            "min_width": null,
            "object_fit": null,
            "object_position": null,
            "order": null,
            "overflow": null,
            "overflow_x": null,
            "overflow_y": null,
            "padding": null,
            "right": null,
            "top": null,
            "visibility": null,
            "width": null
          }
        },
        "47fee043fef442a28cc1c20f432a407d": {
          "model_module": "@jupyter-widgets/controls",
          "model_name": "ProgressStyleModel",
          "model_module_version": "1.5.0",
          "state": {
            "_model_module": "@jupyter-widgets/controls",
            "_model_module_version": "1.5.0",
            "_model_name": "ProgressStyleModel",
            "_view_count": null,
            "_view_module": "@jupyter-widgets/base",
            "_view_module_version": "1.2.0",
            "_view_name": "StyleView",
            "bar_color": null,
            "description_width": ""
          }
        },
        "d77f4aa423d342c7b5669e6e4c943979": {
          "model_module": "@jupyter-widgets/base",
          "model_name": "LayoutModel",
          "model_module_version": "1.2.0",
          "state": {
            "_model_module": "@jupyter-widgets/base",
            "_model_module_version": "1.2.0",
            "_model_name": "LayoutModel",
            "_view_count": null,
            "_view_module": "@jupyter-widgets/base",
            "_view_module_version": "1.2.0",
            "_view_name": "LayoutView",
            "align_content": null,
            "align_items": null,
            "align_self": null,
            "border": null,
            "bottom": null,
            "display": null,
            "flex": null,
            "flex_flow": null,
            "grid_area": null,
            "grid_auto_columns": null,
            "grid_auto_flow": null,
            "grid_auto_rows": null,
            "grid_column": null,
            "grid_gap": null,
            "grid_row": null,
            "grid_template_areas": null,
            "grid_template_columns": null,
            "grid_template_rows": null,
            "height": null,
            "justify_content": null,
            "justify_items": null,
            "left": null,
            "margin": null,
            "max_height": null,
            "max_width": null,
            "min_height": null,
            "min_width": null,
            "object_fit": null,
            "object_position": null,
            "order": null,
            "overflow": null,
            "overflow_x": null,
            "overflow_y": null,
            "padding": null,
            "right": null,
            "top": null,
            "visibility": null,
            "width": null
          }
        },
        "3dc0ccd76f8244b9a3f99d563dfe6ba6": {
          "model_module": "@jupyter-widgets/controls",
          "model_name": "DescriptionStyleModel",
          "model_module_version": "1.5.0",
          "state": {
            "_model_module": "@jupyter-widgets/controls",
            "_model_module_version": "1.5.0",
            "_model_name": "DescriptionStyleModel",
            "_view_count": null,
            "_view_module": "@jupyter-widgets/base",
            "_view_module_version": "1.2.0",
            "_view_name": "StyleView",
            "description_width": ""
          }
        },
        "b135b242865944ab81691ce30734c3d0": {
          "model_module": "@jupyter-widgets/controls",
          "model_name": "HBoxModel",
          "model_module_version": "1.5.0",
          "state": {
            "_dom_classes": [],
            "_model_module": "@jupyter-widgets/controls",
            "_model_module_version": "1.5.0",
            "_model_name": "HBoxModel",
            "_view_count": null,
            "_view_module": "@jupyter-widgets/controls",
            "_view_module_version": "1.5.0",
            "_view_name": "HBoxView",
            "box_style": "",
            "children": [
              "IPY_MODEL_05558d9d57074e478634b43cdecf86b1",
              "IPY_MODEL_82ed97c7caa444e3bc88fd1f54bcce4d",
              "IPY_MODEL_f5d6bc25fc4148979d34c30f5a03cf89"
            ],
            "layout": "IPY_MODEL_a21d6916d15d4861be98f1902507651f"
          }
        },
        "05558d9d57074e478634b43cdecf86b1": {
          "model_module": "@jupyter-widgets/controls",
          "model_name": "HTMLModel",
          "model_module_version": "1.5.0",
          "state": {
            "_dom_classes": [],
            "_model_module": "@jupyter-widgets/controls",
            "_model_module_version": "1.5.0",
            "_model_name": "HTMLModel",
            "_view_count": null,
            "_view_module": "@jupyter-widgets/controls",
            "_view_module_version": "1.5.0",
            "_view_name": "HTMLView",
            "description": "",
            "description_tooltip": null,
            "layout": "IPY_MODEL_e5040beac1f44f8697288fd0303cf45b",
            "placeholder": "​",
            "style": "IPY_MODEL_3b41ac8c2929422bbf508acb5534daa7",
            "value": "Downloading: 100%"
          }
        },
        "82ed97c7caa444e3bc88fd1f54bcce4d": {
          "model_module": "@jupyter-widgets/controls",
          "model_name": "FloatProgressModel",
          "model_module_version": "1.5.0",
          "state": {
            "_dom_classes": [],
            "_model_module": "@jupyter-widgets/controls",
            "_model_module_version": "1.5.0",
            "_model_name": "FloatProgressModel",
            "_view_count": null,
            "_view_module": "@jupyter-widgets/controls",
            "_view_module_version": "1.5.0",
            "_view_name": "ProgressView",
            "bar_style": "success",
            "description": "",
            "description_tooltip": null,
            "layout": "IPY_MODEL_06432f1066e84bf2a6c311296e6d31b3",
            "max": 418756768,
            "min": 0,
            "orientation": "horizontal",
            "style": "IPY_MODEL_9a9cf6d1c18b4282ab1c6297bd8fc70e",
            "value": 418756768
          }
        },
        "f5d6bc25fc4148979d34c30f5a03cf89": {
          "model_module": "@jupyter-widgets/controls",
          "model_name": "HTMLModel",
          "model_module_version": "1.5.0",
          "state": {
            "_dom_classes": [],
            "_model_module": "@jupyter-widgets/controls",
            "_model_module_version": "1.5.0",
            "_model_name": "HTMLModel",
            "_view_count": null,
            "_view_module": "@jupyter-widgets/controls",
            "_view_module_version": "1.5.0",
            "_view_name": "HTMLView",
            "description": "",
            "description_tooltip": null,
            "layout": "IPY_MODEL_813dfa15fec14eada32bfd2bbbedb6b6",
            "placeholder": "​",
            "style": "IPY_MODEL_91cebb8360d241a1b57b05302fcfaca6",
            "value": " 419M/419M [00:14&lt;00:00, 22.7MB/s]"
          }
        },
        "a21d6916d15d4861be98f1902507651f": {
          "model_module": "@jupyter-widgets/base",
          "model_name": "LayoutModel",
          "model_module_version": "1.2.0",
          "state": {
            "_model_module": "@jupyter-widgets/base",
            "_model_module_version": "1.2.0",
            "_model_name": "LayoutModel",
            "_view_count": null,
            "_view_module": "@jupyter-widgets/base",
            "_view_module_version": "1.2.0",
            "_view_name": "LayoutView",
            "align_content": null,
            "align_items": null,
            "align_self": null,
            "border": null,
            "bottom": null,
            "display": null,
            "flex": null,
            "flex_flow": null,
            "grid_area": null,
            "grid_auto_columns": null,
            "grid_auto_flow": null,
            "grid_auto_rows": null,
            "grid_column": null,
            "grid_gap": null,
            "grid_row": null,
            "grid_template_areas": null,
            "grid_template_columns": null,
            "grid_template_rows": null,
            "height": null,
            "justify_content": null,
            "justify_items": null,
            "left": null,
            "margin": null,
            "max_height": null,
            "max_width": null,
            "min_height": null,
            "min_width": null,
            "object_fit": null,
            "object_position": null,
            "order": null,
            "overflow": null,
            "overflow_x": null,
            "overflow_y": null,
            "padding": null,
            "right": null,
            "top": null,
            "visibility": null,
            "width": null
          }
        },
        "e5040beac1f44f8697288fd0303cf45b": {
          "model_module": "@jupyter-widgets/base",
          "model_name": "LayoutModel",
          "model_module_version": "1.2.0",
          "state": {
            "_model_module": "@jupyter-widgets/base",
            "_model_module_version": "1.2.0",
            "_model_name": "LayoutModel",
            "_view_count": null,
            "_view_module": "@jupyter-widgets/base",
            "_view_module_version": "1.2.0",
            "_view_name": "LayoutView",
            "align_content": null,
            "align_items": null,
            "align_self": null,
            "border": null,
            "bottom": null,
            "display": null,
            "flex": null,
            "flex_flow": null,
            "grid_area": null,
            "grid_auto_columns": null,
            "grid_auto_flow": null,
            "grid_auto_rows": null,
            "grid_column": null,
            "grid_gap": null,
            "grid_row": null,
            "grid_template_areas": null,
            "grid_template_columns": null,
            "grid_template_rows": null,
            "height": null,
            "justify_content": null,
            "justify_items": null,
            "left": null,
            "margin": null,
            "max_height": null,
            "max_width": null,
            "min_height": null,
            "min_width": null,
            "object_fit": null,
            "object_position": null,
            "order": null,
            "overflow": null,
            "overflow_x": null,
            "overflow_y": null,
            "padding": null,
            "right": null,
            "top": null,
            "visibility": null,
            "width": null
          }
        },
        "3b41ac8c2929422bbf508acb5534daa7": {
          "model_module": "@jupyter-widgets/controls",
          "model_name": "DescriptionStyleModel",
          "model_module_version": "1.5.0",
          "state": {
            "_model_module": "@jupyter-widgets/controls",
            "_model_module_version": "1.5.0",
            "_model_name": "DescriptionStyleModel",
            "_view_count": null,
            "_view_module": "@jupyter-widgets/base",
            "_view_module_version": "1.2.0",
            "_view_name": "StyleView",
            "description_width": ""
          }
        },
        "06432f1066e84bf2a6c311296e6d31b3": {
          "model_module": "@jupyter-widgets/base",
          "model_name": "LayoutModel",
          "model_module_version": "1.2.0",
          "state": {
            "_model_module": "@jupyter-widgets/base",
            "_model_module_version": "1.2.0",
            "_model_name": "LayoutModel",
            "_view_count": null,
            "_view_module": "@jupyter-widgets/base",
            "_view_module_version": "1.2.0",
            "_view_name": "LayoutView",
            "align_content": null,
            "align_items": null,
            "align_self": null,
            "border": null,
            "bottom": null,
            "display": null,
            "flex": null,
            "flex_flow": null,
            "grid_area": null,
            "grid_auto_columns": null,
            "grid_auto_flow": null,
            "grid_auto_rows": null,
            "grid_column": null,
            "grid_gap": null,
            "grid_row": null,
            "grid_template_areas": null,
            "grid_template_columns": null,
            "grid_template_rows": null,
            "height": null,
            "justify_content": null,
            "justify_items": null,
            "left": null,
            "margin": null,
            "max_height": null,
            "max_width": null,
            "min_height": null,
            "min_width": null,
            "object_fit": null,
            "object_position": null,
            "order": null,
            "overflow": null,
            "overflow_x": null,
            "overflow_y": null,
            "padding": null,
            "right": null,
            "top": null,
            "visibility": null,
            "width": null
          }
        },
        "9a9cf6d1c18b4282ab1c6297bd8fc70e": {
          "model_module": "@jupyter-widgets/controls",
          "model_name": "ProgressStyleModel",
          "model_module_version": "1.5.0",
          "state": {
            "_model_module": "@jupyter-widgets/controls",
            "_model_module_version": "1.5.0",
            "_model_name": "ProgressStyleModel",
            "_view_count": null,
            "_view_module": "@jupyter-widgets/base",
            "_view_module_version": "1.2.0",
            "_view_name": "StyleView",
            "bar_color": null,
            "description_width": ""
          }
        },
        "813dfa15fec14eada32bfd2bbbedb6b6": {
          "model_module": "@jupyter-widgets/base",
          "model_name": "LayoutModel",
          "model_module_version": "1.2.0",
          "state": {
            "_model_module": "@jupyter-widgets/base",
            "_model_module_version": "1.2.0",
            "_model_name": "LayoutModel",
            "_view_count": null,
            "_view_module": "@jupyter-widgets/base",
            "_view_module_version": "1.2.0",
            "_view_name": "LayoutView",
            "align_content": null,
            "align_items": null,
            "align_self": null,
            "border": null,
            "bottom": null,
            "display": null,
            "flex": null,
            "flex_flow": null,
            "grid_area": null,
            "grid_auto_columns": null,
            "grid_auto_flow": null,
            "grid_auto_rows": null,
            "grid_column": null,
            "grid_gap": null,
            "grid_row": null,
            "grid_template_areas": null,
            "grid_template_columns": null,
            "grid_template_rows": null,
            "height": null,
            "justify_content": null,
            "justify_items": null,
            "left": null,
            "margin": null,
            "max_height": null,
            "max_width": null,
            "min_height": null,
            "min_width": null,
            "object_fit": null,
            "object_position": null,
            "order": null,
            "overflow": null,
            "overflow_x": null,
            "overflow_y": null,
            "padding": null,
            "right": null,
            "top": null,
            "visibility": null,
            "width": null
          }
        },
        "91cebb8360d241a1b57b05302fcfaca6": {
          "model_module": "@jupyter-widgets/controls",
          "model_name": "DescriptionStyleModel",
          "model_module_version": "1.5.0",
          "state": {
            "_model_module": "@jupyter-widgets/controls",
            "_model_module_version": "1.5.0",
            "_model_name": "DescriptionStyleModel",
            "_view_count": null,
            "_view_module": "@jupyter-widgets/base",
            "_view_module_version": "1.2.0",
            "_view_name": "StyleView",
            "description_width": ""
          }
        }
      }
    }
  },
  "cells": [
    {
      "cell_type": "markdown",
      "metadata": {
        "id": "view-in-github",
        "colab_type": "text"
      },
      "source": [
        "<a href=\"https://colab.research.google.com/github/pooheamcharoenying/Neural-Network-Python/blob/master/wangchanberta_getting_started_aireseach.ipynb\" target=\"_parent\"><img src=\"https://colab.research.google.com/assets/colab-badge.svg\" alt=\"Open In Colab\"/></a>"
      ]
    },
    {
      "cell_type": "markdown",
      "metadata": {
        "id": "2KhkgdxqmYi0"
      },
      "source": [
        "# WangchanBERTa: Getting Started Notebook\n"
      ]
    },
    {
      "cell_type": "markdown",
      "metadata": {
        "id": "Z4m8BZ6LK2uQ"
      },
      "source": [
        "This is a developing Getting Started Notebook for WangchanBERTa. Currently it has inference methods you can easily use from [HuggingFace](http://huggingface.co/). We will add pretraining and finetuning methods from the scripts in [vistec-ai/thai2transformers](https://github.com/vistec-AI/thai2transformers).\n",
        "\n",
        "![WangchanBERTa](https://miro.medium.com/max/2400/1*XAHtR9rKv8SJ4ESELxm2iQ.png)"
      ]
    },
    {
      "cell_type": "markdown",
      "metadata": {
        "id": "kYYDVSgj-rs6"
      },
      "source": [
        "# Installation"
      ]
    },
    {
      "cell_type": "markdown",
      "metadata": {
        "id": "CCfGDvKc-up_"
      },
      "source": [
        "Install dependencies at specific versions to make sure WangchanBERTa works."
      ]
    },
    {
      "cell_type": "code",
      "source": [
        "!pip uninstall torch"
      ],
      "metadata": {
        "colab": {
          "base_uri": "https://localhost:8080/"
        },
        "id": "Y4grEWjDiti3",
        "outputId": "e61af7d3-11d8-46a2-ce71-a26f4710c7d6"
      },
      "execution_count": 1,
      "outputs": [
        {
          "output_type": "stream",
          "name": "stdout",
          "text": [
            "Found existing installation: torch 1.11.0\n",
            "Uninstalling torch-1.11.0:\n",
            "  Would remove:\n",
            "    /usr/local/bin/convert-caffe2-to-onnx\n",
            "    /usr/local/bin/convert-onnx-to-caffe2\n",
            "    /usr/local/bin/torchrun\n",
            "    /usr/local/lib/python3.7/dist-packages/caffe2/*\n",
            "    /usr/local/lib/python3.7/dist-packages/torch-1.11.0.dist-info/*\n",
            "    /usr/local/lib/python3.7/dist-packages/torch/*\n",
            "Proceed (y/n)? y\n",
            "  Successfully uninstalled torch-1.11.0\n"
          ]
        }
      ]
    },
    {
      "cell_type": "code",
      "metadata": {
        "id": "431Y-zmSmYi1"
      },
      "source": [
        "# Install thai2transformer \n",
        "!pip -q install torch==1.5.0 torchaudio==0.5.0 pytorch-lightning==1.3.0  "
      ],
      "execution_count": 8,
      "outputs": []
    },
    {
      "cell_type": "code",
      "source": [
        "!pip -q install transformers==3.5.0 "
      ],
      "metadata": {
        "id": "_X011p9ycWWN"
      },
      "execution_count": 14,
      "outputs": []
    },
    {
      "cell_type": "code",
      "source": [
        "!pip -q install thai2transformers==0.1.2"
      ],
      "metadata": {
        "id": "OqUy43NXdKEb"
      },
      "execution_count": 15,
      "outputs": []
    },
    {
      "cell_type": "code",
      "metadata": {
        "id": "eVlb6CEDmYi3"
      },
      "source": [
        "import numpy as np\n",
        "from tqdm.auto import tqdm\n",
        "import torch\n",
        "\n",
        "#datasets\n",
        "from datasets import load_dataset\n",
        "\n",
        "#transformers\n",
        "from transformers import (\n",
        "    CamembertTokenizer,\n",
        "    AutoTokenizer,\n",
        "    AutoModel,\n",
        "    AutoModelForMaskedLM,\n",
        "    AutoModelForSequenceClassification,\n",
        "    AutoModelForTokenClassification,\n",
        "    TrainingArguments,\n",
        "    Trainer,\n",
        "    pipeline,\n",
        ")\n",
        "\n",
        "#thai2transformers\n",
        "import thai2transformers\n",
        "from thai2transformers.preprocess import process_transformers\n",
        "from thai2transformers.metrics import (\n",
        "    classification_metrics, \n",
        "    multilabel_classification_metrics,\n",
        ")\n",
        "from thai2transformers.tokenizers import (\n",
        "    ThaiRobertaTokenizer,\n",
        "    ThaiWordsNewmmTokenizer,\n",
        "    ThaiWordsSyllableTokenizer,\n",
        "    FakeSefrCutTokenizer,\n",
        "    SEFR_SPLIT_TOKEN\n",
        ")"
      ],
      "execution_count": 16,
      "outputs": []
    },
    {
      "cell_type": "markdown",
      "metadata": {
        "id": "QAVvxEO3Ihdg"
      },
      "source": [
        "# Choose Pretrained Model"
      ]
    },
    {
      "cell_type": "markdown",
      "metadata": {
        "id": "4ZAUQljAfTT3"
      },
      "source": [
        "In this notebook, you can choose from 5 versions of WangchanBERTa, XLMR and mBERT to perform downstream tasks with Thai datasets. The datasets are:\n",
        "\n",
        "* `wangchanberta-base-att-spm-uncased` (recommended) - Largest WangchanBERTa trained on 78.5GB of Assorted Thai Texts with subword tokenizer SentencePiece\n",
        "* `xlm-roberta-base` - Facebook's [XLMR](https://arxiv.org/abs/1911.02116) trained on 100 languages\n",
        "* `bert-base-multilingual-cased` - Google's [mBERT](https://arxiv.org/abs/1911.03310) trained on 104 languages\n",
        "* `wangchanberta-base-wiki-newmm` - WangchanBERTa trained on Thai Wikipedia Dump with PyThaiNLP's word-level tokenizer  `newmm`\n",
        "* `wangchanberta-base-wiki-syllable` - WangchanBERTa trained on Thai Wikipedia Dump with PyThaiNLP's syllabel-level tokenizer `syllable`\n",
        "* `wangchanberta-base-wiki-sefr` - WangchanBERTa trained on Thai Wikipedia Dump with word-level tokenizer  `SEFR`\n",
        "* `wangchanberta-base-wiki-spm` - WangchanBERTa trained on Thai Wikipedia Dump with subword-level tokenizer SentencePiece"
      ]
    },
    {
      "cell_type": "code",
      "metadata": {
        "id": "n5IaCot9b3cF",
        "colab": {
          "base_uri": "https://localhost:8080/",
          "height": 113,
          "referenced_widgets": [
            "09cf64d4c194459fa8724c86ef2573d8",
            "a9f9eea3cb9d4edb923d3316cbae528c",
            "926decdb3dc348a7b556b81ff1df14d9",
            "2a82d866551d493881475bd0fd57cbb2",
            "a1635fd4c0cb4e358ae6bd7a069100d3",
            "42c9e235d0c548c7bf089a503b7a48f2",
            "68c3ffd587384fd78c28cd59fdb08a08",
            "9722886ec13b4b3c8c79445da1b79629",
            "034775298d06416b9b666a6e1d0b03f6",
            "212c078287d44a8d8782279d94b074f8",
            "77ce0a6abfb2469da97bef0083cf8d26",
            "567f499a00ec4f20913d9d9d089a297d",
            "61f0cf72407544ad87135d1150a3ab70",
            "f4582a1d6dd74575a330f17f6d3c22b3",
            "14fc98ed260d4ddf92f343625a268615",
            "ae7f3e6581b44789b6485e27757619eb",
            "1a08a509e8144ddc8ea23761df56ffbe",
            "ebd9606a851c49bda334e82403087c44",
            "c0478abc41b442b7af320e5c0a06a518",
            "46094f7490ef418b9519545ca6a7fc61",
            "a17e5ec4188046ed97688b82e32a80f9",
            "ab381c50803e4174b09e3f8f1a63a7c8",
            "00db712f60f949dc9179a1d02d8b6930",
            "87d7a7ae30954a34aef438fb9be8c644",
            "e93da26cec5c4f9abe6fe4f7fe7e192a",
            "f2764e5c199c41bda382f35ebeebb8b5",
            "b487dc7c481b4a40a15c04ee797606e8",
            "f212edf1fd694f979d66371cd8617479",
            "b995e8aa3ffc44c8b83bd481b15d494a",
            "8ec26d9c64864159b14351ab33be6e1e",
            "e4ee5742494a4975b8b7d7fc02692a98",
            "d2edb39a78f04c7382f35c2da64f4e34",
            "c294d11b515b44188e1f4b5e4eb85e9c"
          ]
        },
        "outputId": "70c8e131-bbdb-478a-e7e3-c8d4e3afd39b"
      },
      "source": [
        "model_names = [\n",
        "    'wangchanberta-base-att-spm-uncased',\n",
        "    'xlm-roberta-base',\n",
        "    'bert-base-multilingual-cased',\n",
        "    'wangchanberta-base-wiki-newmm',\n",
        "    'wangchanberta-base-wiki-ssg',\n",
        "    'wangchanberta-base-wiki-sefr',\n",
        "    'wangchanberta-base-wiki-spm',\n",
        "]\n",
        "\n",
        "tokenizers = {\n",
        "    'wangchanberta-base-att-spm-uncased': AutoTokenizer,\n",
        "    'xlm-roberta-base': AutoTokenizer,\n",
        "    'bert-base-multilingual-cased': AutoTokenizer,\n",
        "    'wangchanberta-base-wiki-newmm': ThaiWordsNewmmTokenizer,\n",
        "    'wangchanberta-base-wiki-ssg': ThaiWordsSyllableTokenizer,\n",
        "    'wangchanberta-base-wiki-sefr': FakeSefrCutTokenizer,\n",
        "    'wangchanberta-base-wiki-spm': ThaiRobertaTokenizer,\n",
        "}\n",
        "public_models = ['xlm-roberta-base', 'bert-base-multilingual-cased'] \n",
        "#@title Choose Pretrained Model\n",
        "model_name = \"wangchanberta-base-att-spm-uncased\" #@param [\"wangchanberta-base-att-spm-uncased\", \"xlm-roberta-base\", \"bert-base-multilingual-cased\", \"wangchanberta-base-wiki-newmm\", \"wangchanberta-base-wiki-syllable\", \"wangchanberta-base-wiki-sefr\", \"wangchanberta-base-wiki-spm\"]\n",
        "\n",
        "#create tokenizer\n",
        "tokenizer = tokenizers[model_name].from_pretrained(\n",
        "                f'airesearch/{model_name}' if model_name not in public_models else f'{model_name}',\n",
        "                revision='main',\n",
        "                model_max_length=416,)\n"
      ],
      "execution_count": 17,
      "outputs": [
        {
          "output_type": "display_data",
          "data": {
            "text/plain": [
              "Downloading:   0%|          | 0.00/546 [00:00<?, ?B/s]"
            ],
            "application/vnd.jupyter.widget-view+json": {
              "version_major": 2,
              "version_minor": 0,
              "model_id": "09cf64d4c194459fa8724c86ef2573d8"
            }
          },
          "metadata": {}
        },
        {
          "output_type": "display_data",
          "data": {
            "text/plain": [
              "Downloading:   0%|          | 0.00/905k [00:00<?, ?B/s]"
            ],
            "application/vnd.jupyter.widget-view+json": {
              "version_major": 2,
              "version_minor": 0,
              "model_id": "567f499a00ec4f20913d9d9d089a297d"
            }
          },
          "metadata": {}
        },
        {
          "output_type": "display_data",
          "data": {
            "text/plain": [
              "Downloading:   0%|          | 0.00/282 [00:00<?, ?B/s]"
            ],
            "application/vnd.jupyter.widget-view+json": {
              "version_major": 2,
              "version_minor": 0,
              "model_id": "00db712f60f949dc9179a1d02d8b6930"
            }
          },
          "metadata": {}
        }
      ]
    },
    {
      "cell_type": "code",
      "source": [
        "tokenizer"
      ],
      "metadata": {
        "colab": {
          "base_uri": "https://localhost:8080/"
        },
        "id": "y6bNeC2uopDs",
        "outputId": "6b90f73a-8d3f-4abc-f3de-494ff6de481e"
      },
      "execution_count": 19,
      "outputs": [
        {
          "output_type": "execute_result",
          "data": {
            "text/plain": [
              "PreTrainedTokenizer(name_or_path='airesearch/wangchanberta-base-att-spm-uncased', vocab_size=25005, model_max_len=416, is_fast=False, padding_side='right', special_tokens={'bos_token': '<s>', 'eos_token': '</s>', 'unk_token': '<unk>', 'sep_token': '</s>', 'pad_token': '<pad>', 'cls_token': '<s>', 'mask_token': '<mask>', 'additional_special_tokens': ['<s>NOTUSED', '</s>NOTUSED', '<_>']})"
            ]
          },
          "metadata": {},
          "execution_count": 19
        }
      ]
    },
    {
      "cell_type": "markdown",
      "metadata": {
        "id": "ioofbdH49Mud"
      },
      "source": [
        "# Masked Token Prediction"
      ]
    },
    {
      "cell_type": "markdown",
      "metadata": {
        "id": "5HvwQAS_gfRp"
      },
      "source": [
        "The simplest task for WangchanBERTa is the task it was trained on, that is, masked token prediction. The model will try to predict the masked token in a given sequence. For example:\n",
        "\n",
        "> **Question**: วังจันทร์วัลเลย์ ตั้งอยู่บนพื้นที่ 3,454 `<mask>` ของอำเภอวังจันทร์ จังหวัดระยอง\n",
        "\n",
        "> **Answer** [`ไร่`, `ตารางเมตร`, `กิโลเมตร`, `ตารางวา`, `ไมล์`]\n",
        "\n",
        "We can use this to create more data for smaller datasets by substituting parts of the sequences; for instance, if you have 1,000 sequences, you can mask parts of each sequence and generate another 10,000 sentences for traning set. This has been proven to increase downstream performance such as the case of [AUG-BERT](https://link.springer.com/chapter/10.1007/978-981-13-9409-6_266) for English."
      ]
    },
    {
      "cell_type": "code",
      "metadata": {
        "id": "kAcpAdkddVQ8",
        "colab": {
          "base_uri": "https://localhost:8080/",
          "height": 49,
          "referenced_widgets": [
            "0b2c5cff03b74f068d4004d5c8c99447",
            "0b6db02c68b7409aa2617e77c7e20611",
            "48ca2222d30b4dac9aca41dbf7275c11",
            "8ed5d39cf234428290e0ba29adbe11c7",
            "a8913c1e2bec4fca8888f4440753a27d",
            "d631890aaf89493bbe2dcb3b170938e4",
            "ab2196da8ec4493385f7e656e1f7d1c3",
            "a06aaf31140541d58ad9c0cdc74e1d2d",
            "0cc624c3c4eb40848921e1af933ecb38",
            "bc0528a5421b4d7fb86eb5b22c86bcef",
            "f6eddd24269845e7948be652f3c4648d"
          ]
        },
        "outputId": "c377e82b-2733-435d-e646-cce88e21bdd8"
      },
      "source": [
        "#pipeline\n",
        "fill_mask = pipeline(task='fill-mask',\n",
        "         tokenizer=tokenizer,\n",
        "         model = f'airesearch/{model_name}' if model_name not in public_models else f'{model_name}',\n",
        "         revision = 'main',)"
      ],
      "execution_count": 20,
      "outputs": [
        {
          "output_type": "display_data",
          "data": {
            "text/plain": [
              "Downloading:   0%|          | 0.00/423M [00:00<?, ?B/s]"
            ],
            "application/vnd.jupyter.widget-view+json": {
              "version_major": 2,
              "version_minor": 0,
              "model_id": "0b2c5cff03b74f068d4004d5c8c99447"
            }
          },
          "metadata": {}
        }
      ]
    },
    {
      "cell_type": "code",
      "source": [
        "fill_mask"
      ],
      "metadata": {
        "colab": {
          "base_uri": "https://localhost:8080/"
        },
        "id": "XkDDzMhOqOGz",
        "outputId": "f3efc615-c82e-4234-b00e-6e605d1198ef"
      },
      "execution_count": 21,
      "outputs": [
        {
          "output_type": "execute_result",
          "data": {
            "text/plain": [
              "<transformers.pipelines.FillMaskPipeline at 0x7f9013a820d0>"
            ]
          },
          "metadata": {},
          "execution_count": 21
        }
      ]
    },
    {
      "cell_type": "code",
      "metadata": {
        "id": "xAPvcK9JIgjo",
        "colab": {
          "base_uri": "https://localhost:8080/"
        },
        "outputId": "439d252b-9a93-4673-e6fb-82e785594910"
      },
      "source": [
        "input_text = '\\u0E02\\u0E2D\\u0E40\\u0E07\\u0E34\\u0E19\\u0E01\\u0E39\\u0E49\\u003Cmask>\\u0E2B\\u0E19\\u0E48\\u0E2D\\u0E22' #@param ['โครงการมีระยะทางทั้งหมด 114.3 <mask> มีจำนวนสถานี 36 สถานี เป็นเส้นทางหลักในแนวเหนือ–ใต้ ตามแนวทางรถไฟเดิมของการรถไฟแห่งประเทศไทย', 'วังจันทร์วัลเลย์ ตั้งอยู่บนพื้นที่ 3,454 <mask> ของอำเภอวังจันทร์ จังหวัดระยอง', 'ข้าวหน้าเนื้อ หรือเรียกเป็นภาษา<mask>ว่ากิวด้ง (Gyūdon)','จะไปเป็น<mask>โดดเด่นบนฟากฟ้า จะไปไขว่ขว้าเอามาดั่งใจฝัน', 'เช็คยอด<mask>', 'ขอเงินกู้<mask>หน่อย','กด<mask>ไม่ได้'] {allow-input: true}\n",
        "\n",
        "print('input text', input_text)\n",
        "print('filling mask', fill_mask(input_text+'<pad>') )\n",
        "\n",
        "preprocess_input_text = True #@param {type:\"boolean\"}\n",
        "if preprocess_input_text:\n",
        "    if model_name not in public_models:\n",
        "        input_text = process_transformers(input_text)\n",
        "\n",
        "#if the sequence is too short, it needs padding\n",
        "def fill_mask_pad(input_text):\n",
        "    return fill_mask(input_text+'<pad>')\n",
        "#infer\n",
        "fill_mask_pad(input_text)\n",
        "\n"
      ],
      "execution_count": 24,
      "outputs": [
        {
          "output_type": "stream",
          "name": "stdout",
          "text": [
            "input text ขอเงินกู้<mask>หน่อย\n",
            "filling mask [{'sequence': '<s> ขอเงินกู้นอกระบบ หน่อย</s>', 'score': 0.13870564103126526, 'token': 5682, 'token_str': 'นอกระบบ'}, {'sequence': '<s> ขอเงินกู้ในบัญชี หน่อย</s>', 'score': 0.03802807629108429, 'token': 10887, 'token_str': 'ในบัญชี'}, {'sequence': '<s> ขอเงินกู้ธนาคาร หน่อย</s>', 'score': 0.02362395077943802, 'token': 1045, 'token_str': 'ธนาคาร'}, {'sequence': '<s> ขอเงินกู้สหกรณ์ หน่อย</s>', 'score': 0.022009382024407387, 'token': 4501, 'token_str': 'สหกรณ์'}, {'sequence': '<s> ขอเงินกู้คืน หน่อย</s>', 'score': 0.02091856673359871, 'token': 561, 'token_str': 'คืน'}]\n"
          ]
        },
        {
          "output_type": "execute_result",
          "data": {
            "text/plain": [
              "[{'score': 0.13870564103126526,\n",
              "  'sequence': '<s> ขอเงินกู้นอกระบบ หน่อย</s>',\n",
              "  'token': 5682,\n",
              "  'token_str': 'นอกระบบ'},\n",
              " {'score': 0.03802807629108429,\n",
              "  'sequence': '<s> ขอเงินกู้ในบัญชี หน่อย</s>',\n",
              "  'token': 10887,\n",
              "  'token_str': 'ในบัญชี'},\n",
              " {'score': 0.02362395077943802,\n",
              "  'sequence': '<s> ขอเงินกู้ธนาคาร หน่อย</s>',\n",
              "  'token': 1045,\n",
              "  'token_str': 'ธนาคาร'},\n",
              " {'score': 0.022009382024407387,\n",
              "  'sequence': '<s> ขอเงินกู้สหกรณ์ หน่อย</s>',\n",
              "  'token': 4501,\n",
              "  'token_str': 'สหกรณ์'},\n",
              " {'score': 0.02091856673359871,\n",
              "  'sequence': '<s> ขอเงินกู้คืน หน่อย</s>',\n",
              "  'token': 561,\n",
              "  'token_str': 'คืน'}]"
            ]
          },
          "metadata": {},
          "execution_count": 24
        }
      ]
    },
    {
      "cell_type": "markdown",
      "metadata": {
        "id": "uuhgmkcM9StV"
      },
      "source": [
        "# Sequence Classification"
      ]
    },
    {
      "cell_type": "markdown",
      "metadata": {
        "id": "sUzeKha1ozzm"
      },
      "source": [
        "Multi-class sequence classification datasets such as:\n",
        "* `wisesight_sentiment` - sentiment analysis from social media data provided by Wisesight\n",
        "* `wongnai_reviews` - review classification from Wongnai.com"
      ]
    },
    {
      "cell_type": "markdown",
      "metadata": {
        "id": "hq8eN2xi1YCN"
      },
      "source": [
        "## Pretrained Multi-class Classifiers - Wisesight Sentiment and Wongnai Reviews"
      ]
    },
    {
      "cell_type": "markdown",
      "metadata": {
        "id": "5Rfrlk3cr-jp"
      },
      "source": [
        "You can use our state-of-the-art finetuned WangchanBERTa for these tasks right away with:"
      ]
    },
    {
      "cell_type": "code",
      "metadata": {
        "id": "YcFRPt3h9XcU"
      },
      "source": [
        "#@title Choose Multi-class Classification Dataset\n",
        "dataset_name = \"wisesight_sentiment\" #@param ['wisesight_sentiment','wongnai_reviews']\n",
        "\n",
        "#pipeline\n",
        "classify_multiclass = pipeline(task='sentiment-analysis',\n",
        "         tokenizer=tokenizer,\n",
        "         model = f'airesearch/{model_name}' if model_name not in public_models else f'{model_name}',\n",
        "         revision = f'finetuned@{dataset_name}')"
      ],
      "execution_count": 26,
      "outputs": []
    },
    {
      "cell_type": "code",
      "source": [
        "classify_multiclass"
      ],
      "metadata": {
        "colab": {
          "base_uri": "https://localhost:8080/"
        },
        "id": "rFN6O1q5tLhR",
        "outputId": "c2e1e267-5656-4ebd-bc4c-f3f5be72aab6"
      },
      "execution_count": 27,
      "outputs": [
        {
          "output_type": "execute_result",
          "data": {
            "text/plain": [
              "<transformers.pipelines.TextClassificationPipeline at 0x7f90137c7cd0>"
            ]
          },
          "metadata": {},
          "execution_count": 27
        }
      ]
    },
    {
      "cell_type": "code",
      "metadata": {
        "id": "1coyq1-GiGPw",
        "colab": {
          "base_uri": "https://localhost:8080/"
        },
        "outputId": "76196ef2-cdfa-4cb0-a959-dae278fe830d"
      },
      "source": [
        "input_text = '\\u0E2A\\u0E31\\u0E48\\u0E07\\u0E44\\u0E1B2 \\u0E40\\u0E21\\u0E19\\u0E39 \\u0E04\\u0E37\\u0E2D\\u0E21\\u0E31\\u0E0A\\u0E09\\u0E30\\u0E25\\u0E32\\u0E40\\u0E15\\u0E49\\u0E23\\u0E49\\u0E2D\\u0E19 \\u0E01\\u0E31\\u0E1A \\u0E44\\u0E2D\\u0E28\\u0E04\\u0E23\\u0E35\\u0E21\\u0E0A\\u0E32\\u0E40\\u0E02\\u0E35\\u0E22\\u0E27 \\u0E21\\u0E31\\u0E0A\\u0E09\\u0E30\\u0E25\\u0E32\\u0E40\\u0E15\\u0E49\\u0E23\\u0E49\\u0E2D\\u0E19 \\u0E23\\u0E2A\\u0E0A\\u0E32\\u0E40\\u0E02\\u0E35\\u0E22\\u0E27\\u0E40\\u0E02\\u0E49\\u0E21\\u0E02\\u0E49\\u0E19 \\u0E2B\\u0E2D\\u0E21 \\u0E21\\u0E31\\u0E19 \\u0E41\\u0E15\\u0E48\\u0E44\\u0E21\\u0E48\\u0E01\\u0E25\\u0E21\\u0E01\\u0E25\\u0E48\\u0E2D\\u0E21 \\u0E21\\u0E31\\u0E19\\u0E08\\u0E37\\u0E14\\u0E41\\u0E1A\\u0E1A\\u0E08\\u0E37\\u0E14\\u0E2A\\u0E19\\u0E34\\u0E17 \\u0E2A\\u0E48\\u0E27\\u0E19\\u0E44\\u0E2D\\u0E28\\u0E04\\u0E23\\u0E35\\u0E21\\u0E0A\\u0E32\\u0E40\\u0E02\\u0E35\\u0E22\\u0E27 \\u0E17\\u0E32\\u0E19\\u0E41\\u0E25\\u0E49\\u0E27\\u0E23\\u0E2A\\u0E21\\u0E31\\u0E19\\u0E2D\\u0E2D\\u0E01\\u0E43\\u0E1A\\u0E44\\u0E21\\u0E49\\u0E46\\u0E21\\u0E32\\u0E01\\u0E01\\u0E27\\u0E48\\u0E32\\u0E0A\\u0E32\\u0E40\\u0E02\\u0E35\\u0E22\\u0E27 \\u0E41\\u0E25\\u0E49\\u0E27\\u0E01\\u0E47\\u0E2B\\u0E27\\u0E32\\u0E19\\u0E44\\u0E1B \\u0E42\\u0E14\\u0E22\\u0E23\\u0E27\\u0E21\\u0E41\\u0E25\\u0E49\\u0E27\\u0E40\\u0E09\\u0E22\\u0E21\\u0E32\\u0E01\\u0E01 \\u0E14\\u0E35\\u0E41\\u0E04\\u0E48\\u0E23\\u0E2A\\u0E0A\\u0E32\\u0E40\\u0E02\\u0E35\\u0E22\\u0E27\\u0E40\\u0E02\\u0E49\\u0E21 \\u0E21\\u0E35\\u0E19\\u0E49\\u0E33\\u0E40\\u0E1B\\u0E25\\u0E48\\u0E32\\u0E1A\\u0E23\\u0E34\\u0E01\\u0E32\\u0E23\\u0E1F\\u0E23\\u0E35'  #@param ['อยากกินวะแก ซื้อมาให้หน่อยจิ', 'ขอบคุณแกมาก โคตรบ้าเลย', 'ฟอร์ด บุกตลาด อีวี ในอินเดีย #prachachat #ตลาดรถยนต์', 'สั่งไป2 เมนู คือมัชฉะลาเต้ร้อน กับ ไอศครีมชาเขียว มัชฉะลาเต้ร้อน รสชาเขียวเข้มข้น หอม มัน แต่ไม่กลมกล่อม มันจืดแบบจืดสนิท ส่วนไอศครีมชาเขียว ทานแล้วรสมันออกใบไม้ๆมากกว่าชาเขียว แล้วก็หวานไป โดยรวมแล้วเฉยมากก ดีแค่รสชาเขียวเข้ม มีน้ำเปล่าบริการฟรี','เคยบ้าเอ็มเคกับแม่ กินอาทิตย์ละ3-4 วันติด โคตรหนักและโคตรเปลืองงงง'] {allow-input: true}\n",
        "\n",
        "preprocess_input_text = True #@param {type:\"boolean\"}\n",
        "if preprocess_input_text:\n",
        "    if model_name not in public_models:\n",
        "        input_text = process_transformers(input_text)\n",
        "\n",
        "print('input text', input_text)\n",
        "print('classify_multiclass', classify_multiclass(input_text) )\n",
        "\n",
        "#infer\n",
        "classify_multiclass(input_text)"
      ],
      "execution_count": 32,
      "outputs": [
        {
          "output_type": "stream",
          "name": "stdout",
          "text": [
            "input text สั่งไป2<_>เมนู<_>คือมัชฉะลาเต้ร้อน<_>กับ<_>ไอศครีมชาเขียว<_>มัชฉะลาเต้ร้อน<_>รสชาเขียวเข้มข้น<_>หอม<_>มัน<_>แต่ไม่กลมกล่อม<_>มันจืดแบบจืดสนิท<_>ส่วนไอศครีมชาเขียว<_>ทานแล้วรสมันออกใบไม้ๆมากกว่าชาเขียว<_>แล้วก็หวานไป<_>โดยรวมแล้วเฉยมากก<_>ดีแค่รสชาเขียวเข้ม<_>มีน้ำเปล่าบริการฟรี\n",
            "classify_multiclass [{'label': 'neg', 'score': 0.8930233120918274}]\n"
          ]
        },
        {
          "output_type": "execute_result",
          "data": {
            "text/plain": [
              "[{'label': 'neg', 'score': 0.8930233120918274}]"
            ]
          },
          "metadata": {},
          "execution_count": 32
        }
      ]
    },
    {
      "cell_type": "markdown",
      "metadata": {
        "id": "_oq4vnrz9aa8"
      },
      "source": [
        "# Token Classification"
      ]
    },
    {
      "cell_type": "markdown",
      "metadata": {
        "id": "5zFRV9SPi1dv"
      },
      "source": [
        "We have state-of-the-art named entity recognition taggers based on both ThaiNER and LST20."
      ]
    },
    {
      "cell_type": "markdown",
      "metadata": {
        "id": "r_IY0lDi1qTp"
      },
      "source": [
        "## Pretrained Token Classifiers - ThaiNER and LST20"
      ]
    },
    {
      "cell_type": "code",
      "metadata": {
        "id": "7olw26qp9Z0q",
        "colab": {
          "base_uri": "https://localhost:8080/",
          "height": 81,
          "referenced_widgets": [
            "c0e814eb89674c62b4bc5cd2264db905",
            "bde4f625a4f54db29da70f2fa5c1210d",
            "428e72573c5a43b0969c7eb2cd6ebd83",
            "f3d8e7f477224249ba8681d08bf4200c",
            "77eeb31166614038a9240acbb6c29857",
            "0f052bd83656466b8b6ff1b81ed80862",
            "9e359685890e4f0aa2df9a7adac51e29",
            "c087af7eba37458090727f06f9749cfc",
            "47fee043fef442a28cc1c20f432a407d",
            "d77f4aa423d342c7b5669e6e4c943979",
            "3dc0ccd76f8244b9a3f99d563dfe6ba6",
            "b135b242865944ab81691ce30734c3d0",
            "05558d9d57074e478634b43cdecf86b1",
            "82ed97c7caa444e3bc88fd1f54bcce4d",
            "f5d6bc25fc4148979d34c30f5a03cf89",
            "a21d6916d15d4861be98f1902507651f",
            "e5040beac1f44f8697288fd0303cf45b",
            "3b41ac8c2929422bbf508acb5534daa7",
            "06432f1066e84bf2a6c311296e6d31b3",
            "9a9cf6d1c18b4282ab1c6297bd8fc70e",
            "813dfa15fec14eada32bfd2bbbedb6b6",
            "91cebb8360d241a1b57b05302fcfaca6"
          ]
        },
        "outputId": "8483fc58-f2de-4754-d72a-a375c87024d8"
      },
      "source": [
        "#@title Choose Token Classification Dataset\n",
        "dataset_name = \"thainer\" #@param ['thainer','lst20']\n",
        "\n",
        "#pipeline\n",
        "classify_tokens = pipeline(task='ner',\n",
        "         tokenizer=tokenizer,\n",
        "         model = f'airesearch/{model_name}' if model_name not in public_models else f'{model_name}',\n",
        "         revision = f'finetuned@{dataset_name}-ner',\n",
        "         ignore_labels=[], \n",
        "         grouped_entities=True)"
      ],
      "execution_count": 33,
      "outputs": [
        {
          "output_type": "display_data",
          "data": {
            "text/plain": [
              "Downloading:   0%|          | 0.00/1.79k [00:00<?, ?B/s]"
            ],
            "application/vnd.jupyter.widget-view+json": {
              "version_major": 2,
              "version_minor": 0,
              "model_id": "c0e814eb89674c62b4bc5cd2264db905"
            }
          },
          "metadata": {}
        },
        {
          "output_type": "display_data",
          "data": {
            "text/plain": [
              "Downloading:   0%|          | 0.00/419M [00:00<?, ?B/s]"
            ],
            "application/vnd.jupyter.widget-view+json": {
              "version_major": 2,
              "version_minor": 0,
              "model_id": "b135b242865944ab81691ce30734c3d0"
            }
          },
          "metadata": {}
        }
      ]
    },
    {
      "cell_type": "code",
      "metadata": {
        "id": "XuzaarV7k4Ax",
        "colab": {
          "base_uri": "https://localhost:8080/"
        },
        "outputId": "309c82ec-7eb8-43fd-e529-529c06d2d5a6"
      },
      "source": [
        "input_text = '\\u0E41\\u0E14\\u0E07\\u0E40\\u0E14\\u0E37\\u0E2D\\u0E14\\u0E23\\u0E2D\\u0E1A\\u0E2A\\u0E2D\\u0E07 \\u0E25\\u0E34\\u0E40\\u0E27\\u0E2D\\u0E23\\u0E4C\\u0E1E\\u0E39\\u0E25 \\u0E1A\\u0E38\\u0E01\\u0E40\\u0E22\\u0E37\\u0E2D\\u0E19 \\u0E41\\u0E21\\u0E19\\u0E2F \\u0E22\\u0E39\\u0E44\\u0E19\\u0E40\\u0E15\\u0E47\\u0E14' #@param ['โรงเรียนสวนกุหลาบเป็นโรงเรียนที่ดี แต่ไม่มีสวนกุหลาบ', 'แดงเดือดรอบสอง ลิเวอร์พูล บุกเยือน แมนฯ ยูไนเต็ด', 'จีน-อินเดียเสี่ยงสูญเสียจากภัยธรรมชาติมากสุด', 'ทำให้ประชาชนกว่า 10,000 คน ต้องอพยพออกจากพื้นที่ อิทธิพลของพายุยังทำให้บ้านเรือนเกือบ 9,700 หลังพังถล่มลงมา สร้างความเสียหายคิดเป็นมูลค่า 450 ล้านหยวน','กทช.เตรียมทดลองประมูล 3จี 25 ก.ค.นี้']\n",
        "preprocess_input_text = True #@param {type:\"boolean\"}\n",
        "if preprocess_input_text:\n",
        "    if model_name not in public_models:\n",
        "        input_text = process_transformers(input_text)\n",
        "\n",
        "#infer\n",
        "classify_tokens(input_text)"
      ],
      "execution_count": 34,
      "outputs": [
        {
          "output_type": "execute_result",
          "data": {
            "text/plain": [
              "[{'entity_group': 'O',\n",
              "  'score': 0.9662785530090332,\n",
              "  'word': 'แดงเดือดรอบสอง<_>'},\n",
              " {'entity_group': 'ORGANIZATION', 'score': 0.7680627107620239, 'word': ''},\n",
              " {'entity_group': 'ORGANIZATION',\n",
              "  'score': 0.9212534427642822,\n",
              "  'word': 'ลิเวอร์พูล'},\n",
              " {'entity_group': 'O', 'score': 0.995322299003601, 'word': '<_> บุกเยือน<_>'},\n",
              " {'entity_group': 'ORGANIZATION', 'score': 0.8491553068161011, 'word': ''},\n",
              " {'entity_group': 'ORGANIZATION', 'score': 0.9099535942077637, 'word': 'แมนฯ'},\n",
              " {'entity_group': 'O', 'score': 0.8767800331115723, 'word': '<_>'},\n",
              " {'entity_group': 'ORGANIZATION',\n",
              "  'score': 0.8957901895046234,\n",
              "  'word': 'ยูไนเต็ด'}]"
            ]
          },
          "metadata": {},
          "execution_count": 34
        }
      ]
    },
    {
      "cell_type": "markdown",
      "metadata": {
        "id": "xza1BTvK16rb"
      },
      "source": [
        "# Document Vectors"
      ]
    },
    {
      "cell_type": "markdown",
      "metadata": {
        "id": "AH-Eiz1quJEJ"
      },
      "source": [
        "If the HuggingFace finetuners do not have what you are looking for, or you want to do something less traditional such as clustering using document vectors or simply use the document vectors for other classifiers such as logistic regression, random forest and gradient boosting.\n",
        "![Image by @mrpeerat](https://miro.medium.com/max/1000/1*3JJRwT1f2zTK1hx36-qXdg.jpeg)\n",
        "\n",
        "Image by [@mrpeerat](https://github.com/mrpeerat)"
      ]
    },
    {
      "cell_type": "markdown",
      "metadata": {
        "id": "dMnIv7-g2DNi"
      },
      "source": [
        "## Feature Extraction"
      ]
    },
    {
      "cell_type": "markdown",
      "metadata": {
        "id": "KCkfGlQhw4vF"
      },
      "source": [
        "We can use the outputs of WangchanBERTa (or any transformer-based models) as document vectors as an example by [BramVanroy](https://github.com/BramVanroy/bert-for-inference/blob/master/introduction-to-bert.ipynb).\n",
        "\n",
        "![](https://github.com/BramVanroy/bert-for-inference/raw/ab7c57d6e7c79faf83ac0f9b6595c4b3d660c43c/img/bert-feature-extraction-contextualized-embeddings.png)"
      ]
    },
    {
      "cell_type": "code",
      "metadata": {
        "id": "ogLCllbU07Pp",
        "colab": {
          "base_uri": "https://localhost:8080/",
          "height": 66,
          "referenced_widgets": [
            "7a300943beb341b9a53eb89fc44891f9",
            "0cc47b3983fb49b09b81f61b651b76dd",
            "8e3ba1b50c104d4abc9b765b8fb15921",
            "4ef312da966f42b1a669412f6d075d27",
            "edafc45582df4a1b8d35cb3d13ddb7a7",
            "ed3fc0cdc1e04d339c48f4dac0923ed9",
            "7ecf79e1000a4340a6d59e6bdc1a09dc",
            "ed0b498b1a204631a74d4fb04c4c4732"
          ]
        },
        "outputId": "cb381cbd-653f-4b34-e1e3-0e7c2fef563f"
      },
      "source": [
        "#pipeline\n",
        "feature_extractor = pipeline(task='feature-extraction',\n",
        "         tokenizer=tokenizer,\n",
        "         model = f'airesearch/{model_name}' if model_name not in public_models else f'{model_name}',\n",
        "         revision = 'main')\n",
        "\n",
        "def extract_last_k(input_text, feature_extractor, last_k=4):\n",
        "    hidden_states = feature_extractor(input_text)[0]\n",
        "    last_k_layers = [hidden_states[i] for i in [-i for i in range(1,last_k+1)]]\n",
        "    cat_hidden_states = sum(last_k_layers, [])\n",
        "    return np.array(cat_hidden_states)"
      ],
      "execution_count": null,
      "outputs": [
        {
          "output_type": "display_data",
          "data": {
            "application/vnd.jupyter.widget-view+json": {
              "model_id": "7a300943beb341b9a53eb89fc44891f9",
              "version_minor": 0,
              "version_major": 2
            },
            "text/plain": [
              "HBox(children=(FloatProgress(value=0.0, description='Downloading', max=423498558.0, style=ProgressStyle(descri…"
            ]
          },
          "metadata": {
            "tags": []
          }
        },
        {
          "output_type": "stream",
          "text": [
            "\n"
          ],
          "name": "stdout"
        }
      ]
    },
    {
      "cell_type": "markdown",
      "metadata": {
        "id": "ewem8iik3k77"
      },
      "source": [
        "You can see `I like Japanese food` and `I like gyudon` (as well as `I like Italian food` and `I like macaroni`) have high cosine similarity as they are considered \"close\" by WangchanBERTa."
      ]
    },
    {
      "cell_type": "code",
      "metadata": {
        "id": "JT8-9mxW22pq",
        "colab": {
          "base_uri": "https://localhost:8080/",
          "height": 286
        },
        "outputId": "afd27756-4a92-484e-e697-2345cbac63da"
      },
      "source": [
        "#@title Show similarity between Food and Country\n",
        "text1 = 'ฉันชอบกินอาหารญี่ปุ่น' #@param {type:\"raw\"}\n",
        "text2 = 'ฉันชอบกินอาหารอิตาเลียน' #@param {type:\"raw\"}\n",
        "text3 = 'ฉันชอบกินกิวด้ง' #@param {type:\"raw\"}\n",
        "text4 = 'ฉันชอบกินมักกะโรนี' #@param {type:\"raw\"}\n",
        "\n",
        "t1 = extract_last_k(text1, feature_extractor)[None,:]\n",
        "t2 = extract_last_k(text2, feature_extractor)[None,:]\n",
        "t3 = extract_last_k(text3, feature_extractor)[None,:]\n",
        "t4 = extract_last_k(text4, feature_extractor)[None,:]\n",
        "ts = np.concatenate([t1,t2,t3,t4],0)\n",
        "\n",
        "from sklearn.metrics.pairwise import cosine_similarity\n",
        "import seaborn as sns\n",
        "sim_matrix = cosine_similarity(ts,ts)\n",
        "sns.heatmap(sim_matrix, annot=True, \n",
        "            fmt='.2%', cmap='Blues',\n",
        "            xticklabels=['japanese','italian','gyudon','macaroni'],\n",
        "            yticklabels=['japanese','italian','gyudon','macaroni'])"
      ],
      "execution_count": null,
      "outputs": [
        {
          "output_type": "execute_result",
          "data": {
            "text/plain": [
              "<matplotlib.axes._subplots.AxesSubplot at 0x7fc602ecbf50>"
            ]
          },
          "metadata": {
            "tags": []
          },
          "execution_count": 11
        },
        {
          "output_type": "display_data",
          "data": {
            "image/png": "[encoded data removed]",
            "text/plain": [
              "<Figure size 432x288 with 2 Axes>"
            ]
          },
          "metadata": {
            "tags": [],
            "needs_background": "light"
          }
        }
      ]
    },
    {
      "cell_type": "markdown",
      "metadata": {
        "id": "-ffgI_dRZPdJ"
      },
      "source": [
        "## Zero-shot Text Classification"
      ]
    },
    {
      "cell_type": "markdown",
      "metadata": {
        "id": "UM7WvAXLZSlQ"
      },
      "source": [
        "Zero-shot text classification is a fancy way of saying \"do similarity search with a given set of labels based on pretrained model outputs\". It maybe useful when you do not have any training data to finetune at all. Here is how you can do it.\n",
        "\n",
        "<br>\n",
        "\n",
        "__Updated on Friday 26 March 2021__: We have released WanchanBERTa, XLMR and mBERT models finetuned on [XNLI](https://github.com/facebookresearch/XNLI) dataset ( Thai sentence pairs). The finetuned model checkpoints are stored under the branch named `finetuned@xnli_th` in our organization repositories (available at Huggingface Model Hub (https://huggingface.co/airesearch))."
      ]
    },
    {
      "cell_type": "code",
      "metadata": {
        "id": "NnN04n4kZRom",
        "colab": {
          "base_uri": "https://localhost:8080/",
          "height": 115,
          "referenced_widgets": [
            "9cc0050e8633454daaeade8b4d17efaa",
            "2218a3cc79ca463fbd4222fdd97607f9",
            "a8445b650c494c1e90af208e39453bb2",
            "1785d5d0b21e40e882cf60029280799e",
            "e0561c8085f54eadb7d168f7c3950598",
            "82bc9f2c4ae347cdbb985ed11c90c09a",
            "759c32a5ea584e0f9033cb84ae802078",
            "157107fff9bf4c40994f65ce2dcb42bb",
            "a116718dba114a2bbaafb9629f9b6775",
            "a31c0fdd0c4b44a38ebfe0b2b61e437e",
            "0c7e5166c8514f50be0fb14179810842",
            "591820d55a7446579bce904759f50a57",
            "869600d06c6145768c19534fd4557b22",
            "846f5e0ead1f486cb87e4bd541f5079e",
            "ce5655f7807744cfa37b5d3c1e4c87bc",
            "dfdaf30e3a5741609b991a7e1dd0d7e5"
          ]
        },
        "outputId": "23474b3f-1cbe-4305-eb4c-dd4e93cf1aef"
      },
      "source": [
        "#pipeline\n",
        "zero_classify = pipeline(task='zero-shot-classification',\n",
        "         tokenizer=tokenizer,\n",
        "         model=AutoModelForSequenceClassification.from_pretrained(\n",
        "             f'airesearch/{model_name}' if model_name not in public_models else f'airesearch/{model_name}-finetuned',\n",
        "             revision='finetuned@xnli_th')\n",
        "         )"
      ],
      "execution_count": null,
      "outputs": [
        {
          "output_type": "display_data",
          "data": {
            "application/vnd.jupyter.widget-view+json": {
              "model_id": "9cc0050e8633454daaeade8b4d17efaa",
              "version_minor": 0,
              "version_major": 2
            },
            "text/plain": [
              "HBox(children=(FloatProgress(value=0.0, description='Downloading', max=730.0, style=ProgressStyle(description_…"
            ]
          },
          "metadata": {
            "tags": []
          }
        },
        {
          "output_type": "stream",
          "text": [
            "\n"
          ],
          "name": "stdout"
        },
        {
          "output_type": "display_data",
          "data": {
            "application/vnd.jupyter.widget-view+json": {
              "model_id": "a116718dba114a2bbaafb9629f9b6775",
              "version_minor": 0,
              "version_major": 2
            },
            "text/plain": [
              "HBox(children=(FloatProgress(value=0.0, description='Downloading', max=421042678.0, style=ProgressStyle(descri…"
            ]
          },
          "metadata": {
            "tags": []
          }
        },
        {
          "output_type": "stream",
          "text": [
            "\n"
          ],
          "name": "stdout"
        }
      ]
    },
    {
      "cell_type": "code",
      "metadata": {
        "id": "Nczz1ZAqbSnX",
        "colab": {
          "base_uri": "https://localhost:8080/"
        },
        "outputId": "02f2a7be-2063-4369-9edd-973d741b028d"
      },
      "source": [
        "input_text = \"\\u0E17\\u0E35\\u0E21\\u0E44\\u0E1A\\u0E40\\u0E14\\u0E19\\u0E2B\\u0E32\\u0E23\\u0E37\\u0E2D\\u0E01\\u0E31\\u0E1A\\u0E0D\\u0E35\\u0E48\\u0E1B\\u0E38\\u0E48\\u0E19 \\u0E01\\u0E23\\u0E30\\u0E0A\\u0E31\\u0E1A\\u0E04\\u0E27\\u0E32\\u0E21\\u0E40\\u0E1B\\u0E47\\u0E19\\u0E1E\\u0E31\\u0E19\\u0E18\\u0E21\\u0E34\\u0E15\\u0E23\" #@param [\"SCB 10X \\u0E23\\u0E48\\u0E27\\u0E21\\u0E25\\u0E07\\u0E17\\u0E38\\u0E19\\u0E43\\u0E19 BlockFi Startup \\u0E14\\u0E49\\u0E32\\u0E19 Digital Asset\", \"\\u0E2D\\u0E32\\u0E40\\u0E1A\\u0E30\\u0E1B\\u0E23\\u0E31\\u0E1A\\u0E04\\u0E13\\u0E30\\u0E23\\u0E31\\u0E10\\u0E21\\u0E19\\u0E15\\u0E23\\u0E35\\u0E0D\\u0E35\\u0E48\\u0E1B\\u0E38\\u0E48\\u0E19 \\u0E15\\u0E31\\u0E49\\u0E07 \\u201C\\u0E23\\u0E21\\u0E15.\\u0E01\\u0E25\\u0E32\\u0E42\\u0E2B\\u0E21\\u201D \\u0E04\\u0E19\\u0E43\\u0E2B\\u0E21\\u0E48\", \"WangchanBERTa \\u0E42\\u0E21\\u0E40\\u0E14\\u0E25\\u0E1B\\u0E23\\u0E30\\u0E21\\u0E27\\u0E25\\u0E1C\\u0E25\\u0E20\\u0E32\\u0E29\\u0E32\\u0E44\\u0E17\\u0E22\\u0E17\\u0E35\\u0E48\\u0E43\\u0E2B\\u0E0D\\u0E48\\u0E41\\u0E25\\u0E30\\u0E01\\u0E49\\u0E32\\u0E27\\u0E2B\\u0E19\\u0E49\\u0E32\\u0E17\\u0E35\\u0E48\\u0E2A\\u0E38\\u0E14\\u0E43\\u0E19\\u0E02\\u0E13\\u0E30\\u0E19\\u0E35\\u0E49\", \"\\u201CWhere We Belong\\\" \\u0E04\\u0E27\\u0E49\\u0E32\\u0E20\\u0E32\\u0E1E\\u0E22\\u0E19\\u0E15\\u0E23\\u0E4C\\u0E22\\u0E2D\\u0E14\\u0E40\\u0E22\\u0E35\\u0E48\\u0E22\\u0E21 \\u0E2A\\u0E38\\u0E1E\\u0E23\\u0E23\\u0E13\\u0E2B\\u0E07\\u0E2A\\u0E4C\\u0E04\\u0E23\\u0E31\\u0E49\\u0E07\\u0E17\\u0E35\\u0E48 29\", \"\\u0E17\\u0E35\\u0E21\\u0E44\\u0E1A\\u0E40\\u0E14\\u0E19\\u0E2B\\u0E32\\u0E23\\u0E37\\u0E2D\\u0E01\\u0E31\\u0E1A\\u0E0D\\u0E35\\u0E48\\u0E1B\\u0E38\\u0E48\\u0E19 \\u0E01\\u0E23\\u0E30\\u0E0A\\u0E31\\u0E1A\\u0E04\\u0E27\\u0E32\\u0E21\\u0E40\\u0E1B\\u0E47\\u0E19\\u0E1E\\u0E31\\u0E19\\u0E18\\u0E21\\u0E34\\u0E15\\u0E23\", \"\\u0E19\\u0E31\\u0E01\\u0E27\\u0E34\\u0E08\\u0E31\\u0E22\\u0E19\\u0E32\\u0E42\\u0E19\\u0E40\\u0E17\\u0E04\\u0E42\\u0E19\\u0E42\\u0E25\\u0E22\\u0E35 \\u0E08\\u0E32\\u0E01\\u0E2A\\u0E16\\u0E32\\u0E1A\\u0E31\\u0E19\\u0E27\\u0E34\\u0E17\\u0E22\\u0E2A\\u0E34\\u0E23\\u0E34\\u0E40\\u0E21\\u0E18\\u0E35 \\u0E1C\\u0E39\\u0E49\\u0E04\\u0E34\\u0E14\\u0E04\\u0E49\\u0E19\\u0E41\\u0E1A\\u0E15\\u0E40\\u0E15\\u0E2D\\u0E23\\u0E35\\u0E48\\u0E08\\u0E32\\u0E01\\u0E27\\u0E31\\u0E2A\\u0E14\\u0E38\\u0E01\\u0E23\\u0E32\\u0E1F\\u0E35\\u0E19 \\u0E04\\u0E27\\u0E49\\u0E32\\u0E23\\u0E32\\u0E07\\u0E27\\u0E31\\u0E25\\u0E19\\u0E31\\u0E01\\u0E27\\u0E34\\u0E17\\u0E22\\u0E32\\u0E28\\u0E32\\u0E2A\\u0E15\\u0E23\\u0E4C\\u0E14\\u0E35\\u0E40\\u0E14\\u0E48\\u0E19 \\u0E1B\\u0E23\\u0E30\\u0E08\\u0E33\\u0E1B\\u0E35 2562 \", \"\\u0E1E\\u0E34\\u0E1E\\u0E34\\u0E18\\u0E20\\u0E31\\u0E13\\u0E11\\u0E4C\\u0E1D\\u0E23\\u0E31\\u0E48\\u0E07\\u0E40\\u0E28\\u0E2A\\u0E40\\u0E1C\\u0E22\\u0E41\\u0E1E\\u0E23\\u0E48\\u0E44\\u0E1F\\u0E25\\u0E4C\\u0E14\\u0E34\\u0E08\\u0E34\\u0E17\\u0E31\\u0E25\\u0E20\\u0E32\\u0E1E\\u0E27\\u0E32\\u0E14 \\u0E20\\u0E32\\u0E1E\\u0E16\\u0E48\\u0E32\\u0E22 \\u0E41\\u0E25\\u0E30\\u0E20\\u0E32\\u0E1E\\u0E1B\\u0E23\\u0E30\\u0E01\\u0E2D\\u0E1A\\u0E2B\\u0E19\\u0E31\\u0E07\\u0E2A\\u0E37\\u0E2D\\u0E43\\u0E19\\u0E2D\\u0E14\\u0E35\\u0E15 \\u0E23\\u0E27\\u0E21\\u0E01\\u0E27\\u0E48\\u0E32 1 \\u0E41\\u0E2A\\u0E19\\u0E23\\u0E39\\u0E1B \"] {allow-input: true}\n",
        "\n",
        "preprocess_input_text = True #@param {type:\"boolean\"}\n",
        "if preprocess_input_text:\n",
        "    if model_name not in public_models:\n",
        "        input_text = process_transformers(input_text)\n",
        "\n",
        "#infer\n",
        "zero_classify(input_text, \n",
        "              candidate_labels=['เศรษฐกิจ-ธุรกิจ','การเมือง',\n",
        "                                'เทคโนโลยี', 'ศิลปะ-บันเทิง'],\n",
        "              hypothesis_template='พาดหัวข่าวนี้้เกี่ยวกับ{}')"
      ],
      "execution_count": null,
      "outputs": [
        {
          "output_type": "execute_result",
          "data": {
            "text/plain": [
              "{'labels': ['การเมือง', 'เทคโนโลยี', 'ศิลปะ-บันเทิง', 'เศรษฐกิจ-ธุรกิจ'],\n",
              " 'scores': [0.39383912086486816,\n",
              "  0.2437468320131302,\n",
              "  0.207340270280838,\n",
              "  0.15507376194000244],\n",
              " 'sequence': 'ทีมไบเดนหารือกับญี่ปุ่น<_>กระชับความเป็นพันธมิตร'}"
            ]
          },
          "metadata": {
            "tags": []
          },
          "execution_count": 9
        }
      ]
    },
    {
      "cell_type": "code",
      "metadata": {
        "id": "_ZRQus3IUud-"
      },
      "source": [
        ""
      ],
      "execution_count": null,
      "outputs": []
    }
  ]
}